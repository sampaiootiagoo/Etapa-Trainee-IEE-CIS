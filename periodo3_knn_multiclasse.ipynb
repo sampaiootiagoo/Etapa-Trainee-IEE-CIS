{
 "cells": [
  {
   "cell_type": "markdown",
   "metadata": {
    "id": "LvGbc0vJV7Ri"
   },
   "source": [
    "# Algoritmo KNN - Modelo Multiclasse"
   ]
  },
  {
   "cell_type": "code",
   "execution_count": null,
   "metadata": {
    "id": "dJc_skFNVcAr"
   },
   "outputs": [],
   "source": [
    "import pandas as pd\n",
    "import numpy as np\n",
    "import matplotlib.pyplot as plt\n",
    "import seaborn as sns\n",
    "import sklearn\n",
    "from sklearn.model_selection import train_test_split\n",
    "from sklearn.utils import resample\n",
    "from sklearn.ensemble import RandomForestClassifier"
   ]
  },
  {
   "cell_type": "code",
   "execution_count": null,
   "metadata": {
    "colab": {
     "base_uri": "https://localhost:8080/",
     "height": 206
    },
    "id": "MJyXwyOCVt3T",
    "outputId": "cb675ca2-357f-4963-9ac8-8e6c3bb32ebc"
   },
   "outputs": [
    {
     "data": {
      "text/html": [
       "\n",
       "  <div id=\"df-93d3c96e-7cd2-4d48-af2d-64665d4c9e9f\">\n",
       "    <div class=\"colab-df-container\">\n",
       "      <div>\n",
       "<style scoped>\n",
       "    .dataframe tbody tr th:only-of-type {\n",
       "        vertical-align: middle;\n",
       "    }\n",
       "\n",
       "    .dataframe tbody tr th {\n",
       "        vertical-align: top;\n",
       "    }\n",
       "\n",
       "    .dataframe thead th {\n",
       "        text-align: right;\n",
       "    }\n",
       "</style>\n",
       "<table border=\"1\" class=\"dataframe\">\n",
       "  <thead>\n",
       "    <tr style=\"text-align: right;\">\n",
       "      <th></th>\n",
       "      <th>fixed acidity</th>\n",
       "      <th>volatile acidity</th>\n",
       "      <th>citric acid</th>\n",
       "      <th>residual sugar</th>\n",
       "      <th>chlorides</th>\n",
       "      <th>free sulfur dioxide</th>\n",
       "      <th>total sulfur dioxide</th>\n",
       "      <th>density</th>\n",
       "      <th>pH</th>\n",
       "      <th>sulphates</th>\n",
       "      <th>alcohol</th>\n",
       "      <th>quality</th>\n",
       "      <th>wine_is_red</th>\n",
       "    </tr>\n",
       "  </thead>\n",
       "  <tbody>\n",
       "    <tr>\n",
       "      <th>0</th>\n",
       "      <td>5.9</td>\n",
       "      <td>0.61</td>\n",
       "      <td>0.08</td>\n",
       "      <td>2.1</td>\n",
       "      <td>0.071</td>\n",
       "      <td>16.0</td>\n",
       "      <td>24.0</td>\n",
       "      <td>0.99376</td>\n",
       "      <td>3.56</td>\n",
       "      <td>0.77</td>\n",
       "      <td>11.1</td>\n",
       "      <td>6</td>\n",
       "      <td>1</td>\n",
       "    </tr>\n",
       "    <tr>\n",
       "      <th>1</th>\n",
       "      <td>8.2</td>\n",
       "      <td>1.00</td>\n",
       "      <td>0.09</td>\n",
       "      <td>2.3</td>\n",
       "      <td>0.065</td>\n",
       "      <td>7.0</td>\n",
       "      <td>37.0</td>\n",
       "      <td>0.99685</td>\n",
       "      <td>3.32</td>\n",
       "      <td>0.55</td>\n",
       "      <td>9.0</td>\n",
       "      <td>6</td>\n",
       "      <td>1</td>\n",
       "    </tr>\n",
       "    <tr>\n",
       "      <th>2</th>\n",
       "      <td>6.4</td>\n",
       "      <td>0.24</td>\n",
       "      <td>0.49</td>\n",
       "      <td>5.8</td>\n",
       "      <td>0.053</td>\n",
       "      <td>25.0</td>\n",
       "      <td>120.0</td>\n",
       "      <td>0.99420</td>\n",
       "      <td>3.01</td>\n",
       "      <td>0.98</td>\n",
       "      <td>10.5</td>\n",
       "      <td>6</td>\n",
       "      <td>0</td>\n",
       "    </tr>\n",
       "    <tr>\n",
       "      <th>3</th>\n",
       "      <td>6.6</td>\n",
       "      <td>0.23</td>\n",
       "      <td>0.26</td>\n",
       "      <td>1.3</td>\n",
       "      <td>0.045</td>\n",
       "      <td>16.0</td>\n",
       "      <td>128.0</td>\n",
       "      <td>0.99340</td>\n",
       "      <td>3.36</td>\n",
       "      <td>0.60</td>\n",
       "      <td>10.0</td>\n",
       "      <td>6</td>\n",
       "      <td>0</td>\n",
       "    </tr>\n",
       "    <tr>\n",
       "      <th>4</th>\n",
       "      <td>7.2</td>\n",
       "      <td>0.24</td>\n",
       "      <td>0.29</td>\n",
       "      <td>3.0</td>\n",
       "      <td>0.036</td>\n",
       "      <td>17.0</td>\n",
       "      <td>117.0</td>\n",
       "      <td>0.99411</td>\n",
       "      <td>3.36</td>\n",
       "      <td>0.68</td>\n",
       "      <td>10.1</td>\n",
       "      <td>6</td>\n",
       "      <td>0</td>\n",
       "    </tr>\n",
       "  </tbody>\n",
       "</table>\n",
       "</div>\n",
       "      <button class=\"colab-df-convert\" onclick=\"convertToInteractive('df-93d3c96e-7cd2-4d48-af2d-64665d4c9e9f')\"\n",
       "              title=\"Convert this dataframe to an interactive table.\"\n",
       "              style=\"display:none;\">\n",
       "        \n",
       "  <svg xmlns=\"http://www.w3.org/2000/svg\" height=\"24px\"viewBox=\"0 0 24 24\"\n",
       "       width=\"24px\">\n",
       "    <path d=\"M0 0h24v24H0V0z\" fill=\"none\"/>\n",
       "    <path d=\"M18.56 5.44l.94 2.06.94-2.06 2.06-.94-2.06-.94-.94-2.06-.94 2.06-2.06.94zm-11 1L8.5 8.5l.94-2.06 2.06-.94-2.06-.94L8.5 2.5l-.94 2.06-2.06.94zm10 10l.94 2.06.94-2.06 2.06-.94-2.06-.94-.94-2.06-.94 2.06-2.06.94z\"/><path d=\"M17.41 7.96l-1.37-1.37c-.4-.4-.92-.59-1.43-.59-.52 0-1.04.2-1.43.59L10.3 9.45l-7.72 7.72c-.78.78-.78 2.05 0 2.83L4 21.41c.39.39.9.59 1.41.59.51 0 1.02-.2 1.41-.59l7.78-7.78 2.81-2.81c.8-.78.8-2.07 0-2.86zM5.41 20L4 18.59l7.72-7.72 1.47 1.35L5.41 20z\"/>\n",
       "  </svg>\n",
       "      </button>\n",
       "      \n",
       "  <style>\n",
       "    .colab-df-container {\n",
       "      display:flex;\n",
       "      flex-wrap:wrap;\n",
       "      gap: 12px;\n",
       "    }\n",
       "\n",
       "    .colab-df-convert {\n",
       "      background-color: #E8F0FE;\n",
       "      border: none;\n",
       "      border-radius: 50%;\n",
       "      cursor: pointer;\n",
       "      display: none;\n",
       "      fill: #1967D2;\n",
       "      height: 32px;\n",
       "      padding: 0 0 0 0;\n",
       "      width: 32px;\n",
       "    }\n",
       "\n",
       "    .colab-df-convert:hover {\n",
       "      background-color: #E2EBFA;\n",
       "      box-shadow: 0px 1px 2px rgba(60, 64, 67, 0.3), 0px 1px 3px 1px rgba(60, 64, 67, 0.15);\n",
       "      fill: #174EA6;\n",
       "    }\n",
       "\n",
       "    [theme=dark] .colab-df-convert {\n",
       "      background-color: #3B4455;\n",
       "      fill: #D2E3FC;\n",
       "    }\n",
       "\n",
       "    [theme=dark] .colab-df-convert:hover {\n",
       "      background-color: #434B5C;\n",
       "      box-shadow: 0px 1px 3px 1px rgba(0, 0, 0, 0.15);\n",
       "      filter: drop-shadow(0px 1px 2px rgba(0, 0, 0, 0.3));\n",
       "      fill: #FFFFFF;\n",
       "    }\n",
       "  </style>\n",
       "\n",
       "      <script>\n",
       "        const buttonEl =\n",
       "          document.querySelector('#df-93d3c96e-7cd2-4d48-af2d-64665d4c9e9f button.colab-df-convert');\n",
       "        buttonEl.style.display =\n",
       "          google.colab.kernel.accessAllowed ? 'block' : 'none';\n",
       "\n",
       "        async function convertToInteractive(key) {\n",
       "          const element = document.querySelector('#df-93d3c96e-7cd2-4d48-af2d-64665d4c9e9f');\n",
       "          const dataTable =\n",
       "            await google.colab.kernel.invokeFunction('convertToInteractive',\n",
       "                                                     [key], {});\n",
       "          if (!dataTable) return;\n",
       "\n",
       "          const docLinkHtml = 'Like what you see? Visit the ' +\n",
       "            '<a target=\"_blank\" href=https://colab.research.google.com/notebooks/data_table.ipynb>data table notebook</a>'\n",
       "            + ' to learn more about interactive tables.';\n",
       "          element.innerHTML = '';\n",
       "          dataTable['output_type'] = 'display_data';\n",
       "          await google.colab.output.renderOutput(dataTable, element);\n",
       "          const docLink = document.createElement('div');\n",
       "          docLink.innerHTML = docLinkHtml;\n",
       "          element.appendChild(docLink);\n",
       "        }\n",
       "      </script>\n",
       "    </div>\n",
       "  </div>\n",
       "  "
      ],
      "text/plain": [
       "   fixed acidity  volatile acidity  citric acid  ...  alcohol  quality  wine_is_red\n",
       "0            5.9              0.61         0.08  ...     11.1        6            1\n",
       "1            8.2              1.00         0.09  ...      9.0        6            1\n",
       "2            6.4              0.24         0.49  ...     10.5        6            0\n",
       "3            6.6              0.23         0.26  ...     10.0        6            0\n",
       "4            7.2              0.24         0.29  ...     10.1        6            0\n",
       "\n",
       "[5 rows x 13 columns]"
      ]
     },
     "execution_count": 2,
     "metadata": {},
     "output_type": "execute_result"
    }
   ],
   "source": [
    "df = pd.read_csv('/content/winequality.csv')\n",
    "df = df.drop(columns='Unnamed: 0')\n",
    "df.head()"
   ]
  },
  {
   "cell_type": "code",
   "execution_count": null,
   "metadata": {
    "colab": {
     "base_uri": "https://localhost:8080/"
    },
    "id": "D9EAyvrxVz3g",
    "outputId": "bde4d9a3-9861-4d38-cb20-c7718bd4cd7f"
   },
   "outputs": [
    {
     "data": {
      "text/plain": [
       "6    2836\n",
       "5    2138\n",
       "7    1079\n",
       "4     216\n",
       "8     193\n",
       "3      30\n",
       "9       5\n",
       "Name: quality, dtype: int64"
      ]
     },
     "execution_count": 3,
     "metadata": {},
     "output_type": "execute_result"
    }
   ],
   "source": [
    "df.quality.value_counts() # tirar 0 e 1: testar tirando e deixando"
   ]
  },
  {
   "cell_type": "code",
   "execution_count": null,
   "metadata": {
    "id": "ZSkWuak8V-9y"
   },
   "outputs": [],
   "source": [
    "# igualizando o número de observações de cada classe\n",
    "\n",
    "df_9 = df[df.quality==9]\n",
    "df_3 = df[df.quality==3]\n",
    "df_8 = df[df.quality==8]\n",
    "df_4 = df[df.quality==4]\n",
    "df_7 = df[df.quality==7]\n",
    "df_5 = df[df.quality==5]\n",
    "df_6 = df[df.quality==6]"
   ]
  },
  {
   "cell_type": "code",
   "execution_count": null,
   "metadata": {
    "colab": {
     "base_uri": "https://localhost:8080/"
    },
    "id": "EIL0_2nGV-_z",
    "outputId": "c5256d58-fae6-4974-cfe3-faf9c75237ea"
   },
   "outputs": [
    {
     "data": {
      "text/plain": [
       "8    193\n",
       "7    193\n",
       "6    193\n",
       "5    193\n",
       "4    193\n",
       "Name: quality, dtype: int64"
      ]
     },
     "execution_count": 5,
     "metadata": {},
     "output_type": "execute_result"
    }
   ],
   "source": [
    "# FORMA RETIRANDO AS CATEGORIAS 9 E 3, COM POUCAS OBSERVACOES\n",
    "\n",
    "df_8 = resample(df_8, replace = False, n_samples = 193)\n",
    "df_4 = resample(df_4, replace = False, n_samples = 193)\n",
    "df_7 = resample(df_7, replace = False, n_samples = 193)\n",
    "df_5 = resample(df_5, replace = False, n_samples = 193)\n",
    "df_6 = resample(df_6, replace = False, n_samples = 193)\n",
    "\n",
    "df1 = pd.concat([df_8,df_4,df_7,df_5,df_6])\n",
    "\n",
    "df1.quality.value_counts()"
   ]
  },
  {
   "cell_type": "code",
   "execution_count": null,
   "metadata": {
    "colab": {
     "base_uri": "https://localhost:8080/"
    },
    "id": "imlDbO8pV_CD",
    "outputId": "35b6ff70-4a2e-405f-a91d-31bf069f3f7b"
   },
   "outputs": [
    {
     "data": {
      "text/plain": [
       "8    100\n",
       "7    100\n",
       "6    100\n",
       "5    100\n",
       "4    100\n",
       "3     30\n",
       "9      5\n",
       "Name: quality, dtype: int64"
      ]
     },
     "execution_count": 6,
     "metadata": {},
     "output_type": "execute_result"
    }
   ],
   "source": [
    "df_8 = resample(df_8, replace = False, n_samples = 100)\n",
    "df_4 = resample(df_4, replace = False, n_samples = 100)\n",
    "df_7 = resample(df_7, replace = False, n_samples = 100)\n",
    "df_5 = resample(df_5, replace = False, n_samples = 100)\n",
    "df_6 = resample(df_6, replace = False, n_samples = 100)\n",
    "\n",
    "df = pd.concat([df_9,df_3,df_8,df_4,df_7,df_5,df_6])\n",
    "\n",
    "df.quality.value_counts()"
   ]
  },
  {
   "cell_type": "code",
   "execution_count": null,
   "metadata": {
    "colab": {
     "base_uri": "https://localhost:8080/",
     "height": 250
    },
    "id": "zf0fZRRjV_Dv",
    "outputId": "b54d0254-d7de-4d7b-f5a8-dc9404339ef6"
   },
   "outputs": [
    {
     "data": {
      "text/html": [
       "\n",
       "  <div id=\"df-79d4b774-d371-44c4-ae97-1a7270ace731\">\n",
       "    <div class=\"colab-df-container\">\n",
       "      <div>\n",
       "<style scoped>\n",
       "    .dataframe tbody tr th:only-of-type {\n",
       "        vertical-align: middle;\n",
       "    }\n",
       "\n",
       "    .dataframe tbody tr th {\n",
       "        vertical-align: top;\n",
       "    }\n",
       "\n",
       "    .dataframe thead th {\n",
       "        text-align: right;\n",
       "    }\n",
       "</style>\n",
       "<table border=\"1\" class=\"dataframe\">\n",
       "  <thead>\n",
       "    <tr style=\"text-align: right;\">\n",
       "      <th></th>\n",
       "      <th>fixed acidity</th>\n",
       "      <th>volatile acidity</th>\n",
       "      <th>citric acid</th>\n",
       "      <th>residual sugar</th>\n",
       "      <th>chlorides</th>\n",
       "      <th>free sulfur dioxide</th>\n",
       "      <th>total sulfur dioxide</th>\n",
       "      <th>density</th>\n",
       "      <th>pH</th>\n",
       "      <th>sulphates</th>\n",
       "      <th>alcohol</th>\n",
       "      <th>quality</th>\n",
       "      <th>wine_is_red</th>\n",
       "    </tr>\n",
       "  </thead>\n",
       "  <tbody>\n",
       "    <tr>\n",
       "      <th>5708</th>\n",
       "      <td>0.267241</td>\n",
       "      <td>0.142857</td>\n",
       "      <td>0.36</td>\n",
       "      <td>0.320</td>\n",
       "      <td>0.025126</td>\n",
       "      <td>0.206642</td>\n",
       "      <td>0.316993</td>\n",
       "      <td>0.316479</td>\n",
       "      <td>0.480315</td>\n",
       "      <td>0.125714</td>\n",
       "      <td>0.654867</td>\n",
       "      <td>1.0</td>\n",
       "      <td>0.0</td>\n",
       "    </tr>\n",
       "    <tr>\n",
       "      <th>4692</th>\n",
       "      <td>0.275862</td>\n",
       "      <td>0.371429</td>\n",
       "      <td>0.29</td>\n",
       "      <td>0.705</td>\n",
       "      <td>0.018425</td>\n",
       "      <td>0.140221</td>\n",
       "      <td>0.441176</td>\n",
       "      <td>0.502497</td>\n",
       "      <td>0.299213</td>\n",
       "      <td>0.131429</td>\n",
       "      <td>0.637168</td>\n",
       "      <td>1.0</td>\n",
       "      <td>0.0</td>\n",
       "    </tr>\n",
       "    <tr>\n",
       "      <th>1949</th>\n",
       "      <td>0.284483</td>\n",
       "      <td>0.285714</td>\n",
       "      <td>0.31</td>\n",
       "      <td>0.065</td>\n",
       "      <td>0.072027</td>\n",
       "      <td>0.088561</td>\n",
       "      <td>0.071895</td>\n",
       "      <td>0.473783</td>\n",
       "      <td>0.385827</td>\n",
       "      <td>0.291429</td>\n",
       "      <td>0.513274</td>\n",
       "      <td>1.0</td>\n",
       "      <td>1.0</td>\n",
       "    </tr>\n",
       "    <tr>\n",
       "      <th>3870</th>\n",
       "      <td>0.318966</td>\n",
       "      <td>0.114286</td>\n",
       "      <td>0.30</td>\n",
       "      <td>0.675</td>\n",
       "      <td>0.072027</td>\n",
       "      <td>0.369004</td>\n",
       "      <td>0.671569</td>\n",
       "      <td>0.740949</td>\n",
       "      <td>0.314961</td>\n",
       "      <td>0.120000</td>\n",
       "      <td>0.088496</td>\n",
       "      <td>1.0</td>\n",
       "      <td>0.0</td>\n",
       "    </tr>\n",
       "    <tr>\n",
       "      <th>6126</th>\n",
       "      <td>0.250000</td>\n",
       "      <td>0.133333</td>\n",
       "      <td>0.31</td>\n",
       "      <td>0.310</td>\n",
       "      <td>0.040201</td>\n",
       "      <td>0.221402</td>\n",
       "      <td>0.372549</td>\n",
       "      <td>0.289014</td>\n",
       "      <td>0.220472</td>\n",
       "      <td>0.080000</td>\n",
       "      <td>0.619469</td>\n",
       "      <td>1.0</td>\n",
       "      <td>0.0</td>\n",
       "    </tr>\n",
       "  </tbody>\n",
       "</table>\n",
       "</div>\n",
       "      <button class=\"colab-df-convert\" onclick=\"convertToInteractive('df-79d4b774-d371-44c4-ae97-1a7270ace731')\"\n",
       "              title=\"Convert this dataframe to an interactive table.\"\n",
       "              style=\"display:none;\">\n",
       "        \n",
       "  <svg xmlns=\"http://www.w3.org/2000/svg\" height=\"24px\"viewBox=\"0 0 24 24\"\n",
       "       width=\"24px\">\n",
       "    <path d=\"M0 0h24v24H0V0z\" fill=\"none\"/>\n",
       "    <path d=\"M18.56 5.44l.94 2.06.94-2.06 2.06-.94-2.06-.94-.94-2.06-.94 2.06-2.06.94zm-11 1L8.5 8.5l.94-2.06 2.06-.94-2.06-.94L8.5 2.5l-.94 2.06-2.06.94zm10 10l.94 2.06.94-2.06 2.06-.94-2.06-.94-.94-2.06-.94 2.06-2.06.94z\"/><path d=\"M17.41 7.96l-1.37-1.37c-.4-.4-.92-.59-1.43-.59-.52 0-1.04.2-1.43.59L10.3 9.45l-7.72 7.72c-.78.78-.78 2.05 0 2.83L4 21.41c.39.39.9.59 1.41.59.51 0 1.02-.2 1.41-.59l7.78-7.78 2.81-2.81c.8-.78.8-2.07 0-2.86zM5.41 20L4 18.59l7.72-7.72 1.47 1.35L5.41 20z\"/>\n",
       "  </svg>\n",
       "      </button>\n",
       "      \n",
       "  <style>\n",
       "    .colab-df-container {\n",
       "      display:flex;\n",
       "      flex-wrap:wrap;\n",
       "      gap: 12px;\n",
       "    }\n",
       "\n",
       "    .colab-df-convert {\n",
       "      background-color: #E8F0FE;\n",
       "      border: none;\n",
       "      border-radius: 50%;\n",
       "      cursor: pointer;\n",
       "      display: none;\n",
       "      fill: #1967D2;\n",
       "      height: 32px;\n",
       "      padding: 0 0 0 0;\n",
       "      width: 32px;\n",
       "    }\n",
       "\n",
       "    .colab-df-convert:hover {\n",
       "      background-color: #E2EBFA;\n",
       "      box-shadow: 0px 1px 2px rgba(60, 64, 67, 0.3), 0px 1px 3px 1px rgba(60, 64, 67, 0.15);\n",
       "      fill: #174EA6;\n",
       "    }\n",
       "\n",
       "    [theme=dark] .colab-df-convert {\n",
       "      background-color: #3B4455;\n",
       "      fill: #D2E3FC;\n",
       "    }\n",
       "\n",
       "    [theme=dark] .colab-df-convert:hover {\n",
       "      background-color: #434B5C;\n",
       "      box-shadow: 0px 1px 3px 1px rgba(0, 0, 0, 0.15);\n",
       "      filter: drop-shadow(0px 1px 2px rgba(0, 0, 0, 0.3));\n",
       "      fill: #FFFFFF;\n",
       "    }\n",
       "  </style>\n",
       "\n",
       "      <script>\n",
       "        const buttonEl =\n",
       "          document.querySelector('#df-79d4b774-d371-44c4-ae97-1a7270ace731 button.colab-df-convert');\n",
       "        buttonEl.style.display =\n",
       "          google.colab.kernel.accessAllowed ? 'block' : 'none';\n",
       "\n",
       "        async function convertToInteractive(key) {\n",
       "          const element = document.querySelector('#df-79d4b774-d371-44c4-ae97-1a7270ace731');\n",
       "          const dataTable =\n",
       "            await google.colab.kernel.invokeFunction('convertToInteractive',\n",
       "                                                     [key], {});\n",
       "          if (!dataTable) return;\n",
       "\n",
       "          const docLinkHtml = 'Like what you see? Visit the ' +\n",
       "            '<a target=\"_blank\" href=https://colab.research.google.com/notebooks/data_table.ipynb>data table notebook</a>'\n",
       "            + ' to learn more about interactive tables.';\n",
       "          element.innerHTML = '';\n",
       "          dataTable['output_type'] = 'display_data';\n",
       "          await google.colab.output.renderOutput(dataTable, element);\n",
       "          const docLink = document.createElement('div');\n",
       "          docLink.innerHTML = docLinkHtml;\n",
       "          element.appendChild(docLink);\n",
       "        }\n",
       "      </script>\n",
       "    </div>\n",
       "  </div>\n",
       "  "
      ],
      "text/plain": [
       "      fixed acidity  volatile acidity  ...  quality  wine_is_red\n",
       "5708       0.267241          0.142857  ...      1.0          0.0\n",
       "4692       0.275862          0.371429  ...      1.0          0.0\n",
       "1949       0.284483          0.285714  ...      1.0          1.0\n",
       "3870       0.318966          0.114286  ...      1.0          0.0\n",
       "6126       0.250000          0.133333  ...      1.0          0.0\n",
       "\n",
       "[5 rows x 13 columns]"
      ]
     },
     "execution_count": 7,
     "metadata": {},
     "output_type": "execute_result"
    }
   ],
   "source": [
    "# normalizando:\n",
    "\n",
    "for i in df.columns:\n",
    "  df[i] = (df[i] - df[i].min()) / (df[i].max() - df[i].min())\n",
    "\n",
    "for i in df1.columns:\n",
    "  df1[i] = (df1[i] - df1[i].min()) / (df1[i].max() - df1[i].min())\n",
    "\n",
    "df1.head()"
   ]
  },
  {
   "cell_type": "code",
   "execution_count": null,
   "metadata": {
    "id": "Z4HdW0OJV_GE"
   },
   "outputs": [],
   "source": [
    "# Separando nosso df em treino e teste:\n",
    "\n",
    "x = np.array(df.drop(columns='quality'))\n",
    "y = np.array(df.quality)\n",
    "\n",
    "x_train, x_test, y_train, y_test = train_test_split(x, y, test_size=0.2)\n",
    "\n",
    "x_train = np.array(x_train) \n",
    "x_test = np.array(x_test) \n",
    "y_train = np.array(y_train) \n",
    "y_test = np.array(y_test)\n",
    "\n",
    "# BANCO SEM 9 E 3\n",
    "\n",
    "x1 = df1.drop(columns='quality')\n",
    "y1 = df1.quality\n",
    "\n",
    "x1_train, x1_test, y1_train, y1_test = train_test_split(x1, y1, test_size=0.25)\n",
    "\n",
    "x1_train = np.array(x1_train) \n",
    "x1_test = np.array(x1_test) \n",
    "y1_train = np.array(y1_train) \n",
    "y1_test = np.array(y1_test)"
   ]
  },
  {
   "cell_type": "code",
   "execution_count": null,
   "metadata": {
    "colab": {
     "base_uri": "https://localhost:8080/"
    },
    "id": "omdsoK93V_IJ",
    "outputId": "e91adb88-9b8b-44c2-b517-73c1d63a5c5c"
   },
   "outputs": [
    {
     "name": "stdout",
     "output_type": "stream",
     "text": [
      "107 242\n"
     ]
    }
   ],
   "source": [
    "# distancia = ((a1 - a2)^2 + (b1-b2)^2 + ... + (m1 - m2)^2 )^0.5, sendo a1,...,m1 = treino e a2,...,m2 = teste, m é a 13ª letra do alfabeto, \n",
    "# usada porque o x_train possui 13 variáveis (ou dimensões)\n",
    "\n",
    "d = [np.sqrt(np.sum(np.square((i - x_train)), axis=1)) for i in x_test]\n",
    "\n",
    "kk = len(d)\n",
    "\n",
    "# SEM 9 E 3\n",
    "\n",
    "d1 = [np.sqrt(np.sum(np.square((i - x1_train)), axis=1)) for i in x1_test]\n",
    "\n",
    "kk1 = len(d1)\n",
    "\n",
    "print(kk,kk1)"
   ]
  },
  {
   "cell_type": "code",
   "execution_count": null,
   "metadata": {
    "id": "Go8HcidHWjb4"
   },
   "outputs": [],
   "source": [
    "resposta = np.array([]) #array das classificações com maior frequência\n",
    "k = 7 #k vizinhos mais próximos do ponto\n",
    "\n",
    "for i in range(kk):\n",
    "  indices = d[i].argsort()[:k] #índice de cada ponto mais próximo \n",
    "  neighbors = [] #k vizinhos mais próximos do ponto são guardados aqui\n",
    "  for j in range(k):\n",
    "    neighbors.append(y_train[indices[j]]) #classificacao dos pontos\n",
    "  resposta = np.append(resposta,max(set(neighbors), key=neighbors.count)) #classificação mais frequente\n",
    "\n",
    "resposta1 = np.array([]) #array das classificações com maior frequência\n",
    "k1 = 7 #k vizinhos mais próximos do ponto\n",
    "\n",
    "for i in range(kk1):\n",
    "  indices1 = d1[i].argsort()[:k] #índice de cada ponto mais próximo \n",
    "  neighbors1 = [] #k vizinhos mais próximos do ponto são guardados aqui\n",
    "  for j in range(k1):\n",
    "    neighbors1.append(y1_train[indices1[j]]) #classificacao dos pontos\n",
    "  resposta1 = np.append(resposta1,max(set(neighbors1), key=neighbors1.count)) #classificação mais frequente"
   ]
  },
  {
   "cell_type": "code",
   "execution_count": null,
   "metadata": {
    "colab": {
     "base_uri": "https://localhost:8080/"
    },
    "id": "6aRC4w4HWjec",
    "outputId": "c223a811-694f-4826-a8c7-14d82f41ad3b"
   },
   "outputs": [
    {
     "name": "stdout",
     "output_type": "stream",
     "text": [
      "Eficiência do algoritmo sem a retirada: 39.25% \n",
      " Eficiência do algoritmo com a retirada: 47.11%\n"
     ]
    }
   ],
   "source": [
    "c = 0\n",
    "c1 = 0\n",
    "\n",
    "for i in range(kk):\n",
    "  if resposta[i] == y_test[i]:\n",
    "    c += 1\n",
    "\n",
    "for i in range(kk1):\n",
    "  if resposta1[i] == y1_test[i]:\n",
    "    c1 += 1\n",
    "\n",
    "print(f'Eficiência do algoritmo sem a retirada: {round((c/len(d))*100,2)}% \\n Eficiência do algoritmo com a retirada: {round((c1/len(d1))*100,2)}%')"
   ]
  },
  {
   "cell_type": "markdown",
   "metadata": {
    "id": "oelXj1gKW6xO"
   },
   "source": [
    "Foi visto que a retirada das categorias com poucas observações não alterou muito na eficiência do algoritmo, ainda que proponha melhoria. O que mudou nesses últimos resultados, porque outros testes apresentaram resultados com eficiências mais distintaas, exemplo:\n",
    "\n",
    "Eficiência do algoritmo sem a retirada: 27.1% \n",
    "Eficiência do algoritmo com a retirada: 45.6%"
   ]
  }
 ],
 "metadata": {
  "colab": {
   "collapsed_sections": [],
   "name": "periodo3_knn_multiclasse.ipynb",
   "provenance": []
  },
  "kernelspec": {
   "display_name": "Python 3",
   "language": "python",
   "name": "python3"
  },
  "language_info": {
   "codemirror_mode": {
    "name": "ipython",
    "version": 3
   },
   "file_extension": ".py",
   "mimetype": "text/x-python",
   "name": "python",
   "nbconvert_exporter": "python",
   "pygments_lexer": "ipython3",
   "version": "3.8.8"
  }
 },
 "nbformat": 4,
 "nbformat_minor": 1
}
