{
  "cells": [
    {
      "cell_type": "markdown",
      "metadata": {
        "id": "mEp8BXGUu65h"
      },
      "source": [
        "# 6º Período - Pré-processamento, Representação Vetorial e Classificação de Textos"
      ]
    },
    {
      "cell_type": "markdown",
      "source": [
        "## Introdução\n",
        "\n",
        "O foco desse relatório será nas Redes Neurais Recorrentes (RNN), frequentemente utilizadas para tradução e previsão de textos, e que funcionam de forma deveras diferente das Redes Neurais explicadas anteriormente. Serão introduzidos alguns novos termos:\n",
        "\n",
        "\n",
        "\n",
        "*   Tokenização\n",
        "*   Bag-of-words (BOW)\n",
        "*   TFIDF\n",
        "*   Word embeddings\n",
        "*   Redes Neurais Recorrentes (RNNs)\n",
        "*   Gated Recurrent Unit (GRU)\n",
        "*   Long-short-term memory (LSTM)\n",
        "\n",
        "\n",
        "\n"
      ],
      "metadata": {
        "id": "Y6jegwI9eaFK"
      }
    },
    {
      "cell_type": "markdown",
      "source": [
        "### Pacotes necessários:"
      ],
      "metadata": {
        "id": "d0fWh60vfaJS"
      }
    },
    {
      "cell_type": "code",
      "source": [
        "!pip install sklearn2pmml"
      ],
      "metadata": {
        "id": "TL5YDCVVXvMT"
      },
      "execution_count": null,
      "outputs": []
    },
    {
      "cell_type": "code",
      "execution_count": 11,
      "metadata": {
        "id": "8Q6Ruutn0wAe"
      },
      "outputs": [],
      "source": [
        "import numpy as np\n",
        "from sklearn.feature_extraction.text import TfidfVectorizer\n",
        "from sklearn.feature_extraction.text import CountVectorizer\n",
        "import pandas as pd\n",
        "from pathlib import Path  \n",
        "import glob\n",
        "import re\n",
        "import nltk\n",
        "import string\n",
        "from nltk.tokenize import word_tokenize\n",
        "from nltk.corpus import stopwords, wordnet\n",
        "from nltk.stem import WordNetLemmatizer\n",
        "from sklearn2pmml.pipeline import PMMLPipeline\n",
        "from sklearn.pipeline import Pipeline \n",
        "from sklearn.svm import SVC\n",
        "from sklearn.utils import resample\n",
        "#import contractions"
      ]
    },
    {
      "cell_type": "code",
      "execution_count": null,
      "metadata": {
        "id": "tMmWjeYKDqxt"
      },
      "outputs": [],
      "source": [
        "nltk.download('stopwords')\n",
        "stop_words = set(stopwords.words('english'))\n",
        "nltk.download('averaged_perceptron_tagger')\n",
        "nltk.download('wordnet')\n",
        "nltk.download('punkt')"
      ]
    },
    {
      "cell_type": "markdown",
      "metadata": {
        "id": "lD3--B_xyeCs"
      },
      "source": [
        "## Dados"
      ]
    },
    {
      "cell_type": "code",
      "execution_count": 4,
      "metadata": {
        "colab": {
          "base_uri": "https://localhost:8080/"
        },
        "id": "DkGHotkJyeTv",
        "outputId": "84fdcdbc-1924-4b5e-b6b7-8760536feeef"
      },
      "outputs": [
        {
          "output_type": "stream",
          "name": "stdout",
          "text": [
            "Mounted at /content/gdrive\n"
          ]
        }
      ],
      "source": [
        "from google.colab import drive\n",
        "\n",
        "drive.mount('/content/gdrive', force_remount=True)\n",
        "\n",
        "dataset_path = '/content/gdrive/MyDrive/Musical_instruments_reviews.csv'"
      ]
    },
    {
      "cell_type": "code",
      "execution_count": 22,
      "metadata": {
        "colab": {
          "base_uri": "https://localhost:8080/",
          "height": 206
        },
        "id": "5nsEswUH0tmQ",
        "outputId": "b539f60f-775f-4ec9-cb27-c7b38af38169"
      },
      "outputs": [
        {
          "output_type": "execute_result",
          "data": {
            "text/plain": [
              "       reviewerID        asin  \\\n",
              "0  A2IBPI20UZIR0U  1384719342   \n",
              "1  A14VAT5EAX3D9S  1384719342   \n",
              "2  A195EZSQDW3E21  1384719342   \n",
              "3  A2C00NNG1ZQQG2  1384719342   \n",
              "4   A94QU4C90B1AX  1384719342   \n",
              "\n",
              "                                       reviewerName   helpful  \\\n",
              "0  cassandra tu \"Yeah, well, that's just like, u...    [0, 0]   \n",
              "1                                              Jake  [13, 14]   \n",
              "2                     Rick Bennette \"Rick Bennette\"    [1, 1]   \n",
              "3                         RustyBill \"Sunday Rocker\"    [0, 0]   \n",
              "4                                     SEAN MASLANKA    [0, 0]   \n",
              "\n",
              "                                          reviewText  overall  \\\n",
              "0  Not much to write about here, but it does exac...      5.0   \n",
              "1  The product does exactly as it should and is q...      5.0   \n",
              "2  The primary job of this device is to block the...      5.0   \n",
              "3  Nice windscreen protects my MXL mic and preven...      5.0   \n",
              "4  This pop filter is great. It looks and perform...      5.0   \n",
              "\n",
              "                                 summary  unixReviewTime   reviewTime  \n",
              "0                                   good      1393545600  02 28, 2014  \n",
              "1                                   Jake      1363392000  03 16, 2013  \n",
              "2                   It Does The Job Well      1377648000  08 28, 2013  \n",
              "3          GOOD WINDSCREEN FOR THE MONEY      1392336000  02 14, 2014  \n",
              "4  No more pops when I record my vocals.      1392940800  02 21, 2014  "
            ],
            "text/html": [
              "\n",
              "  <div id=\"df-b6058345-70a9-41ca-846d-3f05172b3bc9\">\n",
              "    <div class=\"colab-df-container\">\n",
              "      <div>\n",
              "<style scoped>\n",
              "    .dataframe tbody tr th:only-of-type {\n",
              "        vertical-align: middle;\n",
              "    }\n",
              "\n",
              "    .dataframe tbody tr th {\n",
              "        vertical-align: top;\n",
              "    }\n",
              "\n",
              "    .dataframe thead th {\n",
              "        text-align: right;\n",
              "    }\n",
              "</style>\n",
              "<table border=\"1\" class=\"dataframe\">\n",
              "  <thead>\n",
              "    <tr style=\"text-align: right;\">\n",
              "      <th></th>\n",
              "      <th>reviewerID</th>\n",
              "      <th>asin</th>\n",
              "      <th>reviewerName</th>\n",
              "      <th>helpful</th>\n",
              "      <th>reviewText</th>\n",
              "      <th>overall</th>\n",
              "      <th>summary</th>\n",
              "      <th>unixReviewTime</th>\n",
              "      <th>reviewTime</th>\n",
              "    </tr>\n",
              "  </thead>\n",
              "  <tbody>\n",
              "    <tr>\n",
              "      <th>0</th>\n",
              "      <td>A2IBPI20UZIR0U</td>\n",
              "      <td>1384719342</td>\n",
              "      <td>cassandra tu \"Yeah, well, that's just like, u...</td>\n",
              "      <td>[0, 0]</td>\n",
              "      <td>Not much to write about here, but it does exac...</td>\n",
              "      <td>5.0</td>\n",
              "      <td>good</td>\n",
              "      <td>1393545600</td>\n",
              "      <td>02 28, 2014</td>\n",
              "    </tr>\n",
              "    <tr>\n",
              "      <th>1</th>\n",
              "      <td>A14VAT5EAX3D9S</td>\n",
              "      <td>1384719342</td>\n",
              "      <td>Jake</td>\n",
              "      <td>[13, 14]</td>\n",
              "      <td>The product does exactly as it should and is q...</td>\n",
              "      <td>5.0</td>\n",
              "      <td>Jake</td>\n",
              "      <td>1363392000</td>\n",
              "      <td>03 16, 2013</td>\n",
              "    </tr>\n",
              "    <tr>\n",
              "      <th>2</th>\n",
              "      <td>A195EZSQDW3E21</td>\n",
              "      <td>1384719342</td>\n",
              "      <td>Rick Bennette \"Rick Bennette\"</td>\n",
              "      <td>[1, 1]</td>\n",
              "      <td>The primary job of this device is to block the...</td>\n",
              "      <td>5.0</td>\n",
              "      <td>It Does The Job Well</td>\n",
              "      <td>1377648000</td>\n",
              "      <td>08 28, 2013</td>\n",
              "    </tr>\n",
              "    <tr>\n",
              "      <th>3</th>\n",
              "      <td>A2C00NNG1ZQQG2</td>\n",
              "      <td>1384719342</td>\n",
              "      <td>RustyBill \"Sunday Rocker\"</td>\n",
              "      <td>[0, 0]</td>\n",
              "      <td>Nice windscreen protects my MXL mic and preven...</td>\n",
              "      <td>5.0</td>\n",
              "      <td>GOOD WINDSCREEN FOR THE MONEY</td>\n",
              "      <td>1392336000</td>\n",
              "      <td>02 14, 2014</td>\n",
              "    </tr>\n",
              "    <tr>\n",
              "      <th>4</th>\n",
              "      <td>A94QU4C90B1AX</td>\n",
              "      <td>1384719342</td>\n",
              "      <td>SEAN MASLANKA</td>\n",
              "      <td>[0, 0]</td>\n",
              "      <td>This pop filter is great. It looks and perform...</td>\n",
              "      <td>5.0</td>\n",
              "      <td>No more pops when I record my vocals.</td>\n",
              "      <td>1392940800</td>\n",
              "      <td>02 21, 2014</td>\n",
              "    </tr>\n",
              "  </tbody>\n",
              "</table>\n",
              "</div>\n",
              "      <button class=\"colab-df-convert\" onclick=\"convertToInteractive('df-b6058345-70a9-41ca-846d-3f05172b3bc9')\"\n",
              "              title=\"Convert this dataframe to an interactive table.\"\n",
              "              style=\"display:none;\">\n",
              "        \n",
              "  <svg xmlns=\"http://www.w3.org/2000/svg\" height=\"24px\"viewBox=\"0 0 24 24\"\n",
              "       width=\"24px\">\n",
              "    <path d=\"M0 0h24v24H0V0z\" fill=\"none\"/>\n",
              "    <path d=\"M18.56 5.44l.94 2.06.94-2.06 2.06-.94-2.06-.94-.94-2.06-.94 2.06-2.06.94zm-11 1L8.5 8.5l.94-2.06 2.06-.94-2.06-.94L8.5 2.5l-.94 2.06-2.06.94zm10 10l.94 2.06.94-2.06 2.06-.94-2.06-.94-.94-2.06-.94 2.06-2.06.94z\"/><path d=\"M17.41 7.96l-1.37-1.37c-.4-.4-.92-.59-1.43-.59-.52 0-1.04.2-1.43.59L10.3 9.45l-7.72 7.72c-.78.78-.78 2.05 0 2.83L4 21.41c.39.39.9.59 1.41.59.51 0 1.02-.2 1.41-.59l7.78-7.78 2.81-2.81c.8-.78.8-2.07 0-2.86zM5.41 20L4 18.59l7.72-7.72 1.47 1.35L5.41 20z\"/>\n",
              "  </svg>\n",
              "      </button>\n",
              "      \n",
              "  <style>\n",
              "    .colab-df-container {\n",
              "      display:flex;\n",
              "      flex-wrap:wrap;\n",
              "      gap: 12px;\n",
              "    }\n",
              "\n",
              "    .colab-df-convert {\n",
              "      background-color: #E8F0FE;\n",
              "      border: none;\n",
              "      border-radius: 50%;\n",
              "      cursor: pointer;\n",
              "      display: none;\n",
              "      fill: #1967D2;\n",
              "      height: 32px;\n",
              "      padding: 0 0 0 0;\n",
              "      width: 32px;\n",
              "    }\n",
              "\n",
              "    .colab-df-convert:hover {\n",
              "      background-color: #E2EBFA;\n",
              "      box-shadow: 0px 1px 2px rgba(60, 64, 67, 0.3), 0px 1px 3px 1px rgba(60, 64, 67, 0.15);\n",
              "      fill: #174EA6;\n",
              "    }\n",
              "\n",
              "    [theme=dark] .colab-df-convert {\n",
              "      background-color: #3B4455;\n",
              "      fill: #D2E3FC;\n",
              "    }\n",
              "\n",
              "    [theme=dark] .colab-df-convert:hover {\n",
              "      background-color: #434B5C;\n",
              "      box-shadow: 0px 1px 3px 1px rgba(0, 0, 0, 0.15);\n",
              "      filter: drop-shadow(0px 1px 2px rgba(0, 0, 0, 0.3));\n",
              "      fill: #FFFFFF;\n",
              "    }\n",
              "  </style>\n",
              "\n",
              "      <script>\n",
              "        const buttonEl =\n",
              "          document.querySelector('#df-b6058345-70a9-41ca-846d-3f05172b3bc9 button.colab-df-convert');\n",
              "        buttonEl.style.display =\n",
              "          google.colab.kernel.accessAllowed ? 'block' : 'none';\n",
              "\n",
              "        async function convertToInteractive(key) {\n",
              "          const element = document.querySelector('#df-b6058345-70a9-41ca-846d-3f05172b3bc9');\n",
              "          const dataTable =\n",
              "            await google.colab.kernel.invokeFunction('convertToInteractive',\n",
              "                                                     [key], {});\n",
              "          if (!dataTable) return;\n",
              "\n",
              "          const docLinkHtml = 'Like what you see? Visit the ' +\n",
              "            '<a target=\"_blank\" href=https://colab.research.google.com/notebooks/data_table.ipynb>data table notebook</a>'\n",
              "            + ' to learn more about interactive tables.';\n",
              "          element.innerHTML = '';\n",
              "          dataTable['output_type'] = 'display_data';\n",
              "          await google.colab.output.renderOutput(dataTable, element);\n",
              "          const docLink = document.createElement('div');\n",
              "          docLink.innerHTML = docLinkHtml;\n",
              "          element.appendChild(docLink);\n",
              "        }\n",
              "      </script>\n",
              "    </div>\n",
              "  </div>\n",
              "  "
            ]
          },
          "metadata": {},
          "execution_count": 22
        }
      ],
      "source": [
        "df = pd.read_csv(dataset_path)\n",
        "\n",
        "df.head()"
      ]
    },
    {
      "cell_type": "code",
      "execution_count": 23,
      "metadata": {
        "colab": {
          "base_uri": "https://localhost:8080/"
        },
        "id": "gupiQifPFFxV",
        "outputId": "12a12e9e-8003-4e73-9824-466ededd375c"
      },
      "outputs": [
        {
          "output_type": "execute_result",
          "data": {
            "text/plain": [
              "(10261, 9)"
            ]
          },
          "metadata": {},
          "execution_count": 23
        }
      ],
      "source": [
        "df.shape"
      ]
    },
    {
      "cell_type": "code",
      "execution_count": 24,
      "metadata": {
        "colab": {
          "base_uri": "https://localhost:8080/"
        },
        "id": "8hyKWBweEw6o",
        "outputId": "6c59e794-3ba3-43fa-a216-7b8ac7ab56f6"
      },
      "outputs": [
        {
          "output_type": "execute_result",
          "data": {
            "text/plain": [
              "reviewerID         0\n",
              "asin               0\n",
              "reviewerName      27\n",
              "helpful            0\n",
              "reviewText         7\n",
              "overall            0\n",
              "summary            0\n",
              "unixReviewTime     0\n",
              "reviewTime         0\n",
              "dtype: int64"
            ]
          },
          "metadata": {},
          "execution_count": 24
        }
      ],
      "source": [
        "df.isna().sum()"
      ]
    },
    {
      "cell_type": "markdown",
      "metadata": {
        "id": "zKozIeHsFK-s"
      },
      "source": [
        "Como o número de NAs é insignificante, não há problema em ignorar essas linhas"
      ]
    },
    {
      "cell_type": "code",
      "execution_count": 25,
      "metadata": {
        "colab": {
          "base_uri": "https://localhost:8080/"
        },
        "id": "GyI5S2fAFJgw",
        "outputId": "8daf73e3-5a55-45ba-be4f-fb801f709788"
      },
      "outputs": [
        {
          "output_type": "execute_result",
          "data": {
            "text/plain": [
              "reviewerID        0\n",
              "asin              0\n",
              "reviewerName      0\n",
              "helpful           0\n",
              "reviewText        0\n",
              "overall           0\n",
              "summary           0\n",
              "unixReviewTime    0\n",
              "reviewTime        0\n",
              "dtype: int64"
            ]
          },
          "metadata": {},
          "execution_count": 25
        }
      ],
      "source": [
        "df = df.dropna()\n",
        "df.isna().sum()"
      ]
    },
    {
      "cell_type": "code",
      "source": [
        "df.shape"
      ],
      "metadata": {
        "colab": {
          "base_uri": "https://localhost:8080/"
        },
        "id": "jtuoH2GfRFyd",
        "outputId": "2b05aba9-f844-4f5c-b250-193b2d3119b4"
      },
      "execution_count": 26,
      "outputs": [
        {
          "output_type": "execute_result",
          "data": {
            "text/plain": [
              "(10227, 9)"
            ]
          },
          "metadata": {},
          "execution_count": 26
        }
      ]
    },
    {
      "cell_type": "markdown",
      "source": [
        "## Agora, vamos Balancear o Dataset:"
      ],
      "metadata": {
        "id": "VDNlM3X2KHOt"
      }
    },
    {
      "cell_type": "code",
      "source": [
        "df.overall.value_counts()"
      ],
      "metadata": {
        "colab": {
          "base_uri": "https://localhost:8080/"
        },
        "id": "HeHUYrBfKLJB",
        "outputId": "e9b1cef6-b15f-47bf-e1ab-aa71e0db6611"
      },
      "execution_count": 27,
      "outputs": [
        {
          "output_type": "execute_result",
          "data": {
            "text/plain": [
              "5.0    6912\n",
              "4.0    2079\n",
              "3.0     771\n",
              "2.0     249\n",
              "1.0     216\n",
              "Name: overall, dtype: int64"
            ]
          },
          "metadata": {},
          "execution_count": 27
        }
      ]
    },
    {
      "cell_type": "markdown",
      "source": [
        "Como existem pouquíssimas classificações de número 1, 2 e 3 comparados às classificações de nota 4 e 5, vamos balancear os dados (Downsample, para evitar o overfitting) para que não comprometam o resultado do nosso modelo, como já fizemos em períodos e análises passadas:"
      ],
      "metadata": {
        "id": "pFOX1HG_KTVJ"
      }
    },
    {
      "cell_type": "code",
      "source": [
        "df_5 = df[df['overall']==5.0]\n",
        "df_4 = df[df['overall']==4.0]\n",
        "df_3 = df[df['overall']==3.0]\n",
        "df_2 = df[df['overall']==2.0]\n",
        "df_1 = df[df['overall']==1.0]\n",
        "\n",
        "df_5 = resample(df_5, replace=False, n_samples=249)\n",
        "df_4 = resample(df_4, replace=False, n_samples=249)\n",
        "df_3 = resample(df_3, replace=False, n_samples=249)\n",
        "\n",
        "df = pd.concat([df_5,df_4, df_3, df_2, df_1])\n",
        "\n",
        "df.overall.value_counts()"
      ],
      "metadata": {
        "colab": {
          "base_uri": "https://localhost:8080/"
        },
        "id": "ZV6oE6aWKGro",
        "outputId": "9d07b4fa-a1b3-4d91-f6ac-e1e884378cc3"
      },
      "execution_count": 28,
      "outputs": [
        {
          "output_type": "execute_result",
          "data": {
            "text/plain": [
              "5.0    249\n",
              "4.0    249\n",
              "3.0    249\n",
              "2.0    249\n",
              "1.0    216\n",
              "Name: overall, dtype: int64"
            ]
          },
          "metadata": {},
          "execution_count": 28
        }
      ]
    },
    {
      "cell_type": "markdown",
      "source": [
        "Podemos também fazer uma classificação binária.  será uma avaliação positiva e 0 uma avaliação negativa:"
      ],
      "metadata": {
        "id": "DRzFH_LxLfza"
      }
    },
    {
      "cell_type": "code",
      "source": [
        "df['binary'] = df['overall']"
      ],
      "metadata": {
        "id": "ToA17CS4Lf5G"
      },
      "execution_count": 29,
      "outputs": []
    },
    {
      "cell_type": "code",
      "source": [
        "df['binary'][df['overall']==5.0] = 1\n",
        "df['binary'][df['overall']==4.0] = 1\n",
        "df['binary'][df['overall']==3.0] = 0\n",
        "df['binary'][df['overall']==2.0] = 0\n",
        "df['binary'][df['overall']==1.0] = 0"
      ],
      "metadata": {
        "id": "ChEHna-uMCAV"
      },
      "execution_count": null,
      "outputs": []
    },
    {
      "cell_type": "code",
      "source": [
        "df1.binary.value_counts()"
      ],
      "metadata": {
        "colab": {
          "base_uri": "https://localhost:8080/"
        },
        "id": "UhdCyw0fMXL9",
        "outputId": "a127feb2-50b8-4c82-9716-aaaafa51b495"
      },
      "execution_count": 31,
      "outputs": [
        {
          "output_type": "execute_result",
          "data": {
            "text/plain": [
              "0.0    714\n",
              "1.0    498\n",
              "Name: binary, dtype: int64"
            ]
          },
          "metadata": {},
          "execution_count": 31
        }
      ]
    },
    {
      "cell_type": "markdown",
      "metadata": {
        "id": "dmQduskSwj9l"
      },
      "source": [
        "## Função de pré-processamento dos dados usando RegEx e NLTK;\n",
        "\n",
        "(lowercasing, remover pontuações, stopwords, lemmatize, etc);"
      ]
    },
    {
      "cell_type": "code",
      "execution_count": 21,
      "metadata": {
        "id": "gjLotA57u3Et"
      },
      "outputs": [],
      "source": [
        "def pre_processing_regex(texto, patterns):\n",
        "  novo = texto.tolist()\n",
        "  for frase in novo:\n",
        "    novo_texto = re.sub(patterns, lambda m: m.group(0).lower(), frase)\n",
        "    novo_texto = novo_texto.translate(str.maketrans('', '', string.punctuation))\n",
        "    novo.append(novo_texto)\n",
        "  return novo\n",
        "\n",
        "#phrase = ['TESTANDO, 1. 2. 3. 123!!','Que vontade DE UM STROGONOFF CARA!!! SERIO BRO??? ;-;']\n",
        "\n",
        "phrase = df['reviewerName'].head(1)\n",
        "padrao= '[A-Z]+'\n",
        "\n",
        "# pre_processing_regex(phrase,padrao)"
      ]
    },
    {
      "cell_type": "markdown",
      "metadata": {
        "id": "6AAb2al-EM2O"
      },
      "source": [
        "Apesar de criar a função e ela estar funcional, não a utilziaremos por existirem diversos métodos mais eficientes e intuitivos para pré processar os dados, como utilizando o NLTK:"
      ]
    },
    {
      "cell_type": "code",
      "execution_count": 32,
      "metadata": {
        "id": "g4O-Alo9EiTn"
      },
      "outputs": [],
      "source": [
        "data = df[['reviewText','summary']]"
      ]
    },
    {
      "cell_type": "markdown",
      "source": [
        "A **primeira ação** ao texto é expandir as contrações das palavras, ou seja, \"I´ve\" se torna \"I have\" e são tokenizados juntos, ou seja, não são alocadas diferentes como em \"I\" \"have\". A **segunda ação** é a Tokenização, ou seja, cada palavra individual vai ser dividida em um token. A **terceira ação** é converter todas as palavras para a letra minúscula. A **quarta ação** é para remover as pontuações. A **quinta ação** é para remover as chamadas \"stop words\", também chamadas de palavras vazias, ou seja, palavras sem significado (já definidas em uma função). A **sexta e última ação** é a chamada de \"Lemmatization\", que classifica as palavras em adjetivo, verbo, pronome, substantivo e etc."
      ],
      "metadata": {
        "id": "CiM2sdA5VFyP"
      }
    },
    {
      "cell_type": "code",
      "execution_count": 33,
      "metadata": {
        "id": "ldzBWrQIGXm9"
      },
      "outputs": [],
      "source": [
        "def get_wordnet_pos(tag):\n",
        "    if tag.startswith('J'):\n",
        "        return wordnet.ADJ\n",
        "    elif tag.startswith('V'):\n",
        "        return wordnet.VERB\n",
        "    elif tag.startswith('N'):\n",
        "        return wordnet.NOUN\n",
        "    elif tag.startswith('R'):\n",
        "        return wordnet.ADV\n",
        "    else:\n",
        "        return wordnet.NOUN\n",
        "\n",
        "\n",
        "def pre_processing_nltk(data):\n",
        "  for column in data.columns:\n",
        " #   data[column] = data[column].apply(lambda x: [contractions.fix(word) for word in x.split()])\n",
        "\n",
        "    data[column] = data[column].apply(word_tokenize)\n",
        "\n",
        "    data[column] = data[column].apply(lambda x: [word.lower() for word in x])\n",
        " \n",
        "    data[column] = data[column].apply(lambda x: [word for word in x if word not in string.punctuation])\n",
        "\n",
        "    data[column] = data[column].apply(lambda x: [word for word in x if word not in stop_words])\n",
        "\n",
        "    data[column] = data[column].apply(nltk.tag.pos_tag)\n",
        "\n",
        "    data[column] = data[column].apply(lambda x: [(word, get_wordnet_pos(pos_tag)) for (word, pos_tag) in x])\n",
        "\n",
        "    wnl = WordNetLemmatizer()\n",
        "    data[column] = data[column].apply(lambda x: [wnl.lemmatize(word, tag) for word, tag in x])\n",
        "\n",
        "  return data\n",
        "\n",
        "def preprocessnltk(data):\n",
        "  data['reviewText'] = data['reviewText'].apply(word_tokenize)\n",
        "\n",
        "  data['reviewText'] = data['reviewText'].apply(lambda x: [word.lower() for word in x])\n",
        " \n",
        "  data['reviewText'] = data['reviewText'].apply(lambda x: [word for word in x if word not in string.punctuation])\n",
        "\n",
        "  data['reviewText'] = data['reviewText'].apply(lambda x: [word for word in x if word not in stop_words])\n",
        "\n",
        "  data['reviewText'] = data['reviewText'].apply(nltk.tag.pos_tag)\n",
        "\n",
        "  data['reviewText'] = data['reviewText'].apply(lambda x: [(word, get_wordnet_pos(pos_tag)) for (word, pos_tag) in x])\n",
        "\n",
        "  wnl = WordNetLemmatizer()\n",
        "  data['reviewText'] = data['reviewText'].apply(lambda x: [wnl.lemmatize(word, tag) for word, tag in x])\n",
        "\n",
        "  return data\n",
        "\n",
        "#data = pre_processing_nltk(data)"
      ]
    },
    {
      "cell_type": "code",
      "source": [
        "data = pre_processing_nltk(data)"
      ],
      "metadata": {
        "id": "zBAGFiXGZNj-"
      },
      "execution_count": null,
      "outputs": []
    },
    {
      "cell_type": "markdown",
      "source": [
        "Agora, vamos retirar os dados do formato lista para que possamos utilizar normalmente os seguintes passos:"
      ],
      "metadata": {
        "id": "bwhBm0GAOGOH"
      }
    },
    {
      "cell_type": "code",
      "source": [
        "data['reviewText'] = [' '.join(map(str,l)) for l in data['reviewText']]\n",
        "data['summary'] = [' '.join(map(str,l)) for l in data['summary']]"
      ],
      "metadata": {
        "id": "CdOPIQ3SOE6X"
      },
      "execution_count": null,
      "outputs": []
    },
    {
      "cell_type": "code",
      "source": [
        "data.head()"
      ],
      "metadata": {
        "colab": {
          "base_uri": "https://localhost:8080/",
          "height": 206
        },
        "id": "cDqIMjl7Zi7s",
        "outputId": "1e74d3d5-288f-4624-98cf-b7cf4cd3d208"
      },
      "execution_count": 36,
      "outputs": [
        {
          "output_type": "execute_result",
          "data": {
            "text/plain": [
              "                                             reviewText             summary\n",
              "9634  suggested start product since 'm learn add rep...  nice sound quality\n",
              "766   've use string quite fantactic tonal quality l...            love 'em\n",
              "9290  put ac30c2 prepare amaze never own ocd n't nee...        hard go ball\n",
              "9814  several capo one really surprised price 's lig...            easy use\n",
              "2703  bass strap really comfortable great price btw ...         great strap"
            ],
            "text/html": [
              "\n",
              "  <div id=\"df-9d27f322-f06e-4b3b-9b2e-367301df5308\">\n",
              "    <div class=\"colab-df-container\">\n",
              "      <div>\n",
              "<style scoped>\n",
              "    .dataframe tbody tr th:only-of-type {\n",
              "        vertical-align: middle;\n",
              "    }\n",
              "\n",
              "    .dataframe tbody tr th {\n",
              "        vertical-align: top;\n",
              "    }\n",
              "\n",
              "    .dataframe thead th {\n",
              "        text-align: right;\n",
              "    }\n",
              "</style>\n",
              "<table border=\"1\" class=\"dataframe\">\n",
              "  <thead>\n",
              "    <tr style=\"text-align: right;\">\n",
              "      <th></th>\n",
              "      <th>reviewText</th>\n",
              "      <th>summary</th>\n",
              "    </tr>\n",
              "  </thead>\n",
              "  <tbody>\n",
              "    <tr>\n",
              "      <th>9634</th>\n",
              "      <td>suggested start product since 'm learn add rep...</td>\n",
              "      <td>nice sound quality</td>\n",
              "    </tr>\n",
              "    <tr>\n",
              "      <th>766</th>\n",
              "      <td>'ve use string quite fantactic tonal quality l...</td>\n",
              "      <td>love 'em</td>\n",
              "    </tr>\n",
              "    <tr>\n",
              "      <th>9290</th>\n",
              "      <td>put ac30c2 prepare amaze never own ocd n't nee...</td>\n",
              "      <td>hard go ball</td>\n",
              "    </tr>\n",
              "    <tr>\n",
              "      <th>9814</th>\n",
              "      <td>several capo one really surprised price 's lig...</td>\n",
              "      <td>easy use</td>\n",
              "    </tr>\n",
              "    <tr>\n",
              "      <th>2703</th>\n",
              "      <td>bass strap really comfortable great price btw ...</td>\n",
              "      <td>great strap</td>\n",
              "    </tr>\n",
              "  </tbody>\n",
              "</table>\n",
              "</div>\n",
              "      <button class=\"colab-df-convert\" onclick=\"convertToInteractive('df-9d27f322-f06e-4b3b-9b2e-367301df5308')\"\n",
              "              title=\"Convert this dataframe to an interactive table.\"\n",
              "              style=\"display:none;\">\n",
              "        \n",
              "  <svg xmlns=\"http://www.w3.org/2000/svg\" height=\"24px\"viewBox=\"0 0 24 24\"\n",
              "       width=\"24px\">\n",
              "    <path d=\"M0 0h24v24H0V0z\" fill=\"none\"/>\n",
              "    <path d=\"M18.56 5.44l.94 2.06.94-2.06 2.06-.94-2.06-.94-.94-2.06-.94 2.06-2.06.94zm-11 1L8.5 8.5l.94-2.06 2.06-.94-2.06-.94L8.5 2.5l-.94 2.06-2.06.94zm10 10l.94 2.06.94-2.06 2.06-.94-2.06-.94-.94-2.06-.94 2.06-2.06.94z\"/><path d=\"M17.41 7.96l-1.37-1.37c-.4-.4-.92-.59-1.43-.59-.52 0-1.04.2-1.43.59L10.3 9.45l-7.72 7.72c-.78.78-.78 2.05 0 2.83L4 21.41c.39.39.9.59 1.41.59.51 0 1.02-.2 1.41-.59l7.78-7.78 2.81-2.81c.8-.78.8-2.07 0-2.86zM5.41 20L4 18.59l7.72-7.72 1.47 1.35L5.41 20z\"/>\n",
              "  </svg>\n",
              "      </button>\n",
              "      \n",
              "  <style>\n",
              "    .colab-df-container {\n",
              "      display:flex;\n",
              "      flex-wrap:wrap;\n",
              "      gap: 12px;\n",
              "    }\n",
              "\n",
              "    .colab-df-convert {\n",
              "      background-color: #E8F0FE;\n",
              "      border: none;\n",
              "      border-radius: 50%;\n",
              "      cursor: pointer;\n",
              "      display: none;\n",
              "      fill: #1967D2;\n",
              "      height: 32px;\n",
              "      padding: 0 0 0 0;\n",
              "      width: 32px;\n",
              "    }\n",
              "\n",
              "    .colab-df-convert:hover {\n",
              "      background-color: #E2EBFA;\n",
              "      box-shadow: 0px 1px 2px rgba(60, 64, 67, 0.3), 0px 1px 3px 1px rgba(60, 64, 67, 0.15);\n",
              "      fill: #174EA6;\n",
              "    }\n",
              "\n",
              "    [theme=dark] .colab-df-convert {\n",
              "      background-color: #3B4455;\n",
              "      fill: #D2E3FC;\n",
              "    }\n",
              "\n",
              "    [theme=dark] .colab-df-convert:hover {\n",
              "      background-color: #434B5C;\n",
              "      box-shadow: 0px 1px 3px 1px rgba(0, 0, 0, 0.15);\n",
              "      filter: drop-shadow(0px 1px 2px rgba(0, 0, 0, 0.3));\n",
              "      fill: #FFFFFF;\n",
              "    }\n",
              "  </style>\n",
              "\n",
              "      <script>\n",
              "        const buttonEl =\n",
              "          document.querySelector('#df-9d27f322-f06e-4b3b-9b2e-367301df5308 button.colab-df-convert');\n",
              "        buttonEl.style.display =\n",
              "          google.colab.kernel.accessAllowed ? 'block' : 'none';\n",
              "\n",
              "        async function convertToInteractive(key) {\n",
              "          const element = document.querySelector('#df-9d27f322-f06e-4b3b-9b2e-367301df5308');\n",
              "          const dataTable =\n",
              "            await google.colab.kernel.invokeFunction('convertToInteractive',\n",
              "                                                     [key], {});\n",
              "          if (!dataTable) return;\n",
              "\n",
              "          const docLinkHtml = 'Like what you see? Visit the ' +\n",
              "            '<a target=\"_blank\" href=https://colab.research.google.com/notebooks/data_table.ipynb>data table notebook</a>'\n",
              "            + ' to learn more about interactive tables.';\n",
              "          element.innerHTML = '';\n",
              "          dataTable['output_type'] = 'display_data';\n",
              "          await google.colab.output.renderOutput(dataTable, element);\n",
              "          const docLink = document.createElement('div');\n",
              "          docLink.innerHTML = docLinkHtml;\n",
              "          element.appendChild(docLink);\n",
              "        }\n",
              "      </script>\n",
              "    </div>\n",
              "  </div>\n",
              "  "
            ]
          },
          "metadata": {},
          "execution_count": 36
        }
      ]
    },
    {
      "cell_type": "markdown",
      "metadata": {
        "id": "w0Fimhwdwm6r"
      },
      "source": [
        "## Tokenizando os textos com os métodos de BOW e TFIFD (sklearn);"
      ]
    },
    {
      "cell_type": "markdown",
      "source": [
        "Esse é o código a se utilizar caso, após o pré-processamento, o texto de cada linha esteja dentro de uma lista. Porque o BOW e TFIFD não entende quando os textos vem dentro de listas "
      ],
      "metadata": {
        "id": "nljyPOMdOmC0"
      }
    },
    {
      "cell_type": "code",
      "execution_count": null,
      "metadata": {
        "id": "5lfeUxaZwiuP"
      },
      "outputs": [],
      "source": [
        "# TFIFD\n",
        "\n",
        "def dummy_fun(doc):\n",
        "    return doc\n",
        "\n",
        "tfidf = TfidfVectorizer(\n",
        "    analyzer='word',\n",
        "    tokenizer=dummy_fun,\n",
        "    preprocessor=dummy_fun,\n",
        "    token_pattern=None)  "
      ]
    },
    {
      "cell_type": "code",
      "source": [
        "tfidf.fit(data['reviewText'])\n",
        "tfidf.vocabulary_"
      ],
      "metadata": {
        "id": "fTVvdp3l5mqE"
      },
      "execution_count": null,
      "outputs": []
    },
    {
      "cell_type": "code",
      "source": [
        "# BOW\n",
        "\n",
        "vect = CountVectorizer(\n",
        "    analyzer='word',\n",
        "    tokenizer=dummy_fun,\n",
        "    preprocessor=dummy_fun,\n",
        "    token_pattern=None)\n",
        "\n",
        "vect.fit(data['reviewText'])"
      ],
      "metadata": {
        "id": "kWb6eXWG7Arm"
      },
      "execution_count": null,
      "outputs": []
    },
    {
      "cell_type": "code",
      "source": [
        "vect.vocabulary_"
      ],
      "metadata": {
        "id": "64qPRxNX4_ob"
      },
      "execution_count": null,
      "outputs": []
    },
    {
      "cell_type": "markdown",
      "source": [
        "Agora, vamos utilizar BOW  e TFIFD com os textos de cada observação do dataset fora de uma lista:"
      ],
      "metadata": {
        "id": "TvWamJJiPDGt"
      }
    },
    {
      "cell_type": "markdown",
      "source": [
        "### Bag Of Words"
      ],
      "metadata": {
        "id": "AIqeZsxfR_th"
      }
    },
    {
      "cell_type": "code",
      "source": [
        "# BOW\n",
        "\n",
        "vect = CountVectorizer()\n",
        "vect.fit(data['reviewText'])\n",
        "\n",
        "print(f'Tamanho: {len(vect.vocabulary_)}')\n",
        "#print(f'Contagem: {vect.vocabulary_}')"
      ],
      "metadata": {
        "colab": {
          "base_uri": "https://localhost:8080/"
        },
        "id": "OAXIE_WkPRNy",
        "outputId": "ac002fae-95fd-43d4-dbf3-e7ae5efb9fbb"
      },
      "execution_count": 38,
      "outputs": [
        {
          "output_type": "stream",
          "name": "stdout",
          "text": [
            "Tamanho: 6728\n"
          ]
        }
      ]
    },
    {
      "cell_type": "markdown",
      "source": [
        "Vamos ocultar a saída da contagem para fins de visualização do relatório, mas está funcionando corretamente assim como explicado no exemplo na introdução."
      ],
      "metadata": {
        "id": "ILrbiepqNgmS"
      }
    },
    {
      "cell_type": "markdown",
      "source": [
        "Agora, para que possamos levar e treinar o modelo para prever essas palavras, codificaremos cada palavra para matriz. \"Transform documents to document-term matrix.\""
      ],
      "metadata": {
        "id": "Q4p8daTIQd8M"
      }
    },
    {
      "cell_type": "code",
      "source": [
        "bow = vect.transform(data['reviewText'])\n",
        "\n",
        "#print(bow)\n",
        "\n",
        "print(bow.toarray())"
      ],
      "metadata": {
        "colab": {
          "base_uri": "https://localhost:8080/"
        },
        "id": "mgCtleglQsfq",
        "outputId": "faff27eb-c0dd-4605-fe45-c8a32b15f2fb"
      },
      "execution_count": 39,
      "outputs": [
        {
          "output_type": "stream",
          "name": "stdout",
          "text": [
            "[[0 0 0 ... 0 0 0]\n",
            " [0 0 0 ... 0 0 0]\n",
            " [0 0 0 ... 0 0 0]\n",
            " ...\n",
            " [0 0 0 ... 0 0 0]\n",
            " [0 0 0 ... 0 0 0]\n",
            " [0 0 0 ... 0 0 0]]\n"
          ]
        }
      ]
    },
    {
      "cell_type": "code",
      "source": [
        "vect.get_feature_names_out()"
      ],
      "metadata": {
        "colab": {
          "base_uri": "https://localhost:8080/"
        },
        "id": "TooUFl3iQ1vd",
        "outputId": "a130baa1-1d0a-48c4-aa97-dfd7e8dc24ec"
      },
      "execution_count": 40,
      "outputs": [
        {
          "output_type": "execute_result",
          "data": {
            "text/plain": [
              "array(['00', '000', '004', ..., 'zombie', 'zone', 'zoom'], dtype=object)"
            ]
          },
          "metadata": {},
          "execution_count": 40
        }
      ]
    },
    {
      "cell_type": "code",
      "source": [
        "vect.get_params()"
      ],
      "metadata": {
        "colab": {
          "base_uri": "https://localhost:8080/"
        },
        "id": "7u1nfg9IR4CV",
        "outputId": "b07737cb-6ebe-404c-9f16-f50de689319f"
      },
      "execution_count": 41,
      "outputs": [
        {
          "output_type": "execute_result",
          "data": {
            "text/plain": [
              "{'analyzer': 'word',\n",
              " 'binary': False,\n",
              " 'decode_error': 'strict',\n",
              " 'dtype': numpy.int64,\n",
              " 'encoding': 'utf-8',\n",
              " 'input': 'content',\n",
              " 'lowercase': True,\n",
              " 'max_df': 1.0,\n",
              " 'max_features': None,\n",
              " 'min_df': 1,\n",
              " 'ngram_range': (1, 1),\n",
              " 'preprocessor': None,\n",
              " 'stop_words': None,\n",
              " 'strip_accents': None,\n",
              " 'token_pattern': '(?u)\\\\b\\\\w\\\\w+\\\\b',\n",
              " 'tokenizer': None,\n",
              " 'vocabulary': None}"
            ]
          },
          "metadata": {},
          "execution_count": 41
        }
      ]
    },
    {
      "cell_type": "markdown",
      "source": [
        "### TFIFD"
      ],
      "metadata": {
        "id": "oCNuefkwSFvf"
      }
    },
    {
      "cell_type": "code",
      "source": [
        "# TFIDF\n",
        "\n",
        "vectorizer = TfidfVectorizer()\n",
        "tfidf = vectorizer.fit_transform(data['reviewText']) # equivalente a fazer vectorizer.fit() e depois vectorizer.transform()"
      ],
      "metadata": {
        "id": "xnDBDcl-PRP9"
      },
      "execution_count": 42,
      "outputs": []
    },
    {
      "cell_type": "code",
      "source": [
        "vectorizer.get_feature_names_out()"
      ],
      "metadata": {
        "colab": {
          "base_uri": "https://localhost:8080/"
        },
        "id": "V_MoN-8xPRR7",
        "outputId": "5a300045-86a3-4078-a4c0-466a7f21b0c4"
      },
      "execution_count": 43,
      "outputs": [
        {
          "output_type": "execute_result",
          "data": {
            "text/plain": [
              "array(['00', '000', '004', ..., 'zombie', 'zone', 'zoom'], dtype=object)"
            ]
          },
          "metadata": {},
          "execution_count": 43
        }
      ]
    },
    {
      "cell_type": "code",
      "source": [
        "vectorizer.get_params()"
      ],
      "metadata": {
        "colab": {
          "base_uri": "https://localhost:8080/"
        },
        "id": "DfbrBJLfPRUd",
        "outputId": "901eecc8-ab79-48ca-e73b-083b224d820e"
      },
      "execution_count": 44,
      "outputs": [
        {
          "output_type": "execute_result",
          "data": {
            "text/plain": [
              "{'analyzer': 'word',\n",
              " 'binary': False,\n",
              " 'decode_error': 'strict',\n",
              " 'dtype': numpy.float64,\n",
              " 'encoding': 'utf-8',\n",
              " 'input': 'content',\n",
              " 'lowercase': True,\n",
              " 'max_df': 1.0,\n",
              " 'max_features': None,\n",
              " 'min_df': 1,\n",
              " 'ngram_range': (1, 1),\n",
              " 'norm': 'l2',\n",
              " 'preprocessor': None,\n",
              " 'smooth_idf': True,\n",
              " 'stop_words': None,\n",
              " 'strip_accents': None,\n",
              " 'sublinear_tf': False,\n",
              " 'token_pattern': '(?u)\\\\b\\\\w\\\\w+\\\\b',\n",
              " 'tokenizer': None,\n",
              " 'use_idf': True,\n",
              " 'vocabulary': None}"
            ]
          },
          "metadata": {},
          "execution_count": 44
        }
      ]
    },
    {
      "cell_type": "code",
      "source": [
        "print(tfidf.toarray())"
      ],
      "metadata": {
        "colab": {
          "base_uri": "https://localhost:8080/"
        },
        "id": "hAGSc_N0PRaU",
        "outputId": "51aac261-9de8-4c5a-a9b7-529a5a7e4bc1"
      },
      "execution_count": 45,
      "outputs": [
        {
          "output_type": "stream",
          "name": "stdout",
          "text": [
            "[[0. 0. 0. ... 0. 0. 0.]\n",
            " [0. 0. 0. ... 0. 0. 0.]\n",
            " [0. 0. 0. ... 0. 0. 0.]\n",
            " ...\n",
            " [0. 0. 0. ... 0. 0. 0.]\n",
            " [0. 0. 0. ... 0. 0. 0.]\n",
            " [0. 0. 0. ... 0. 0. 0.]]\n"
          ]
        }
      ]
    },
    {
      "cell_type": "markdown",
      "metadata": {
        "id": "25uV_2tnwlVO"
      },
      "source": [
        "## Utilizando classificadores clássicos de Machine Learning;\n"
      ]
    },
    {
      "cell_type": "markdown",
      "source": [
        "### Utilizando Support Vector Machine (SVM):\n",
        "\n",
        "Sempre vamos fazer primeiramente o modelo categórico, e logo depois o binário"
      ],
      "metadata": {
        "id": "iSlf0ufBY75p"
      }
    },
    {
      "cell_type": "code",
      "source": [
        "from sklearn import preprocessing, svm\n",
        "from sklearn.model_selection import train_test_split"
      ],
      "metadata": {
        "id": "QgA4wZlhY7Oq"
      },
      "execution_count": 46,
      "outputs": []
    },
    {
      "cell_type": "code",
      "source": [
        "x = tfidf\n",
        "y = df['overall']\n",
        "\n",
        "x_train, x_test, y_train, y_test = train_test_split(x,y, test_size=0.2)\n",
        "\n",
        "clf = svm.SVC()\n",
        "clf.fit(x_train,y_train)\n",
        "\n",
        "print(f'A acurácia do algoritmo de Support Vector Machine foi de {round(clf.score(x_test,y_test)*100,2)}%')"
      ],
      "metadata": {
        "id": "W7W584C6ZOgW",
        "colab": {
          "base_uri": "https://localhost:8080/"
        },
        "outputId": "d79424ea-d00c-47ed-afcf-299722f9c89c"
      },
      "execution_count": 51,
      "outputs": [
        {
          "output_type": "stream",
          "name": "stdout",
          "text": [
            "A acurácia do algoritmo de Support Vector Machine foi de 30.45%\n"
          ]
        }
      ]
    },
    {
      "cell_type": "code",
      "source": [
        "x = tfidf\n",
        "y = df['binary']\n",
        "\n",
        "x_train, x_test, y_train, y_test = train_test_split(x,y, test_size=0.2)\n",
        "\n",
        "clf = svm.SVC()\n",
        "clf.fit(x_train,y_train)\n",
        "\n",
        "print(f'A acurácia do algoritmo de Support Vector Machine foi de {round(clf.score(x_test,y_test)*100,2)}%')"
      ],
      "metadata": {
        "colab": {
          "base_uri": "https://localhost:8080/"
        },
        "id": "vSLfw4BXOExL",
        "outputId": "6e0ea815-0a25-4155-f181-6d04c71bf8f1"
      },
      "execution_count": 52,
      "outputs": [
        {
          "output_type": "stream",
          "name": "stdout",
          "text": [
            "A acurácia do algoritmo de Support Vector Machine foi de 64.61%\n"
          ]
        }
      ]
    },
    {
      "cell_type": "markdown",
      "source": [
        "Vemos que a acurácia mais que dobrou ao utilizarmos o modelo binário."
      ],
      "metadata": {
        "id": "r1DR_mjROKqi"
      }
    },
    {
      "cell_type": "markdown",
      "source": [
        "Agora, vamos ver se existe alguma diferença utilizando BOW ao invés de TFIDF:"
      ],
      "metadata": {
        "id": "NN88nT4qaKUq"
      }
    },
    {
      "cell_type": "code",
      "source": [
        "x = bow\n",
        "y = df['overall']\n",
        "\n",
        "x_train, x_test, y_train, y_test = train_test_split(x,y, test_size=0.2)\n",
        "\n",
        "clf = svm.SVC()\n",
        "clf.fit(x_train,y_train)\n",
        "\n",
        "print(f'A acurácia do algoritmo de Support Vector Machine foi de {round(clf.score(x_test,y_test)*100,2)}%')"
      ],
      "metadata": {
        "id": "8Rx0LkkMaRLe",
        "colab": {
          "base_uri": "https://localhost:8080/"
        },
        "outputId": "dd60fb04-0065-4c0b-9fab-dbd155fa24cb"
      },
      "execution_count": 53,
      "outputs": [
        {
          "output_type": "stream",
          "name": "stdout",
          "text": [
            "A acurácia do algoritmo de Support Vector Machine foi de 32.92%\n"
          ]
        }
      ]
    },
    {
      "cell_type": "code",
      "source": [
        "x = bow\n",
        "y = df['binary']\n",
        "\n",
        "x_train, x_test, y_train, y_test = train_test_split(x,y, test_size=0.2)\n",
        "\n",
        "clf = svm.SVC()\n",
        "clf.fit(x_train,y_train)\n",
        "\n",
        "print(f'A acurácia do algoritmo de Support Vector Machine foi de {round(clf.score(x_test,y_test)*100,2)}%')"
      ],
      "metadata": {
        "colab": {
          "base_uri": "https://localhost:8080/"
        },
        "id": "9_UKdr5rOWGB",
        "outputId": "9c73cd36-af6b-444f-f2ac-3ad679524a6a"
      },
      "execution_count": 54,
      "outputs": [
        {
          "output_type": "stream",
          "name": "stdout",
          "text": [
            "A acurácia do algoritmo de Support Vector Machine foi de 68.31%\n"
          ]
        }
      ]
    },
    {
      "cell_type": "markdown",
      "source": [
        "Analisa-se que não há diferença significativa entre os dois métodos de classificação, podendo-se utilizar qualquer um"
      ],
      "metadata": {
        "id": "sRCJJtOMb1q2"
      }
    },
    {
      "cell_type": "markdown",
      "source": [
        "### Naive Bayes:"
      ],
      "metadata": {
        "id": "c0SBmss1bxWX"
      }
    },
    {
      "cell_type": "code",
      "source": [
        "from sklearn.naive_bayes import GaussianNB"
      ],
      "metadata": {
        "id": "hx-b6fZvbwwV"
      },
      "execution_count": 55,
      "outputs": []
    },
    {
      "cell_type": "code",
      "source": [
        "dense_tfidf = tfidf.todense()"
      ],
      "metadata": {
        "id": "ZnuccgTrcSjp"
      },
      "execution_count": 56,
      "outputs": []
    },
    {
      "cell_type": "code",
      "source": [
        "x = tfidf.toarray()\n",
        "y = df['overall']\n",
        "\n",
        "x_train, x_test, y_train, y_test = train_test_split(x,y, test_size=0.2)\n",
        "\n",
        "gnb = GaussianNB()\n",
        "\n",
        "gnb.fit(x_train, y_train)\n",
        "\n",
        "y_pred = gnb.predict(x_test)\n",
        "\n",
        "print(\"Number of mislabeled points out of a total %d points : %d\" % (x_test.shape[0], (y_test != y_pred).sum()))"
      ],
      "metadata": {
        "id": "sSdWKQVXcASV",
        "colab": {
          "base_uri": "https://localhost:8080/"
        },
        "outputId": "5cf6ae99-8696-43de-d941-68222751d4cc"
      },
      "execution_count": 58,
      "outputs": [
        {
          "output_type": "stream",
          "name": "stdout",
          "text": [
            "Number of mislabeled points out of a total 243 points : 180\n"
          ]
        }
      ]
    },
    {
      "cell_type": "code",
      "source": [
        "print(f'Vimos que a acurácia não foi das melhores, atingindo somente um percentual de {round((1-180/243)*100,2)}%')"
      ],
      "metadata": {
        "colab": {
          "base_uri": "https://localhost:8080/"
        },
        "id": "eCD83Yqmd1JL",
        "outputId": "83c02888-0d5a-4876-8439-3c2ed4361a0f"
      },
      "execution_count": 59,
      "outputs": [
        {
          "output_type": "stream",
          "name": "stdout",
          "text": [
            "Vimos que a acurácia não foi das melhores, atingindo somente um percentual de 25.93%\n"
          ]
        }
      ]
    },
    {
      "cell_type": "code",
      "source": [
        "x = tfidf.toarray()\n",
        "y = df['binary']\n",
        "\n",
        "x_train, x_test, y_train, y_test = train_test_split(x,y, test_size=0.2)\n",
        "\n",
        "gnb = GaussianNB()\n",
        "\n",
        "gnb.fit(x_train, y_train)\n",
        "\n",
        "y_pred = gnb.predict(x_test)\n",
        "\n",
        "print(\"Number of mislabeled points out of a total %d points : %d\" % (x_test.shape[0], (y_test != y_pred).sum()))"
      ],
      "metadata": {
        "colab": {
          "base_uri": "https://localhost:8080/"
        },
        "id": "gYWOTkDvPrtV",
        "outputId": "6340b55f-8e2f-441c-c407-f99a616383ec"
      },
      "execution_count": 60,
      "outputs": [
        {
          "output_type": "stream",
          "name": "stdout",
          "text": [
            "Number of mislabeled points out of a total 243 points : 101\n"
          ]
        }
      ]
    },
    {
      "cell_type": "code",
      "source": [
        "print(f'Vimos que a acurácia no modelo binário melhorou, atingindo um percentual de {round((1-101/243)*100,2)}%')"
      ],
      "metadata": {
        "colab": {
          "base_uri": "https://localhost:8080/"
        },
        "id": "EfA5TzX_PrvX",
        "outputId": "0257de81-47bb-4f0d-fbd9-099c88e8bf79"
      },
      "execution_count": 63,
      "outputs": [
        {
          "output_type": "stream",
          "name": "stdout",
          "text": [
            "Vimos que a acurácia no modelo binário melhorou, atingindo um percentual de 58.44%\n"
          ]
        }
      ]
    },
    {
      "cell_type": "markdown",
      "metadata": {
        "id": "oQ3QGsihwlzu"
      },
      "source": [
        "## Tokenização dos textos usando o Tensorflow (Tokenizer e método text_to_sequences);"
      ]
    },
    {
      "cell_type": "code",
      "execution_count": 64,
      "metadata": {
        "id": "7c81P_ouwizr"
      },
      "outputs": [],
      "source": [
        "import tensorflow as tf\n",
        "from tensorflow import keras\n",
        "from tensorflow.keras.preprocessing.text import Tokenizer\n",
        "from tensorflow.keras.preprocessing.sequence import pad_sequences"
      ]
    },
    {
      "cell_type": "code",
      "source": [
        "vect = CountVectorizer()\n",
        "vect.fit(data['reviewText'])"
      ],
      "metadata": {
        "colab": {
          "base_uri": "https://localhost:8080/"
        },
        "id": "YnxvN_dPSFcV",
        "outputId": "ee8f1d5e-9370-4b52-8351-4236c6ee03a4"
      },
      "execution_count": 67,
      "outputs": [
        {
          "output_type": "execute_result",
          "data": {
            "text/plain": [
              "CountVectorizer()"
            ]
          },
          "metadata": {},
          "execution_count": 67
        }
      ]
    },
    {
      "cell_type": "code",
      "source": [
        "tokenizer = Tokenizer(oov_token='<OOV>',num_words= len(vect.vocabulary_), filters='') # UM 'ESPAÇO' PARA ALGUMA PALAVRA QUE NAO FOI TREINADA APAREÇA\n",
        "tokenizer.fit_on_texts(data['reviewText'])\n",
        "\n",
        "len(tokenizer.word_counts)"
      ],
      "metadata": {
        "id": "ZwGV68FVhmdn",
        "colab": {
          "base_uri": "https://localhost:8080/"
        },
        "outputId": "f6e9ec44-5701-4810-bf6e-04668c9ec9a5"
      },
      "execution_count": 69,
      "outputs": [
        {
          "output_type": "execute_result",
          "data": {
            "text/plain": [
              "8246"
            ]
          },
          "metadata": {},
          "execution_count": 69
        }
      ]
    },
    {
      "cell_type": "markdown",
      "source": [
        "Aqui, deixaremos as sentenças dos textos no mesmo comprimento junto ao método texts_to_sequences. Utilizaremos também, no dataset DATA, o ReviewText como treino e o Summary como Teste"
      ],
      "metadata": {
        "id": "fOveuH3Ti9l8"
      }
    },
    {
      "cell_type": "code",
      "source": [
        "sequences = tokenizer.texts_to_sequences(data['reviewText'])"
      ],
      "metadata": {
        "id": "_7UZ5qvLigDq"
      },
      "execution_count": 72,
      "outputs": []
    },
    {
      "cell_type": "markdown",
      "source": [
        "Mais uma vez, omitiremos o output para não comprometermos a visualização e entendimento do relatório."
      ],
      "metadata": {
        "id": "_39hKObOSYwT"
      }
    },
    {
      "cell_type": "code",
      "source": [
        "padded = pad_sequences(sequences, padding='post', truncating='post')\n",
        "print(\"\\nPadded Sequences:\")\n",
        "print(padded)"
      ],
      "metadata": {
        "colab": {
          "base_uri": "https://localhost:8080/"
        },
        "id": "lEN6n_yWjIHE",
        "outputId": "f4e246f7-97ba-4c2a-ed0b-0bdae8460c20"
      },
      "execution_count": 75,
      "outputs": [
        {
          "output_type": "stream",
          "name": "stdout",
          "text": [
            "\n",
            "Padded Sequences:\n",
            "[[2549  164   49 ...    0    0    0]\n",
            " [  23    4   10 ...    0    0    0]\n",
            " [  76 3561 1774 ...    0    0    0]\n",
            " ...\n",
            " [ 289  164   44 ...    0    0    0]\n",
            " [  92   12  698 ...    0    0    0]\n",
            " [  24   42   11 ...    0    0    0]]\n"
          ]
        }
      ]
    },
    {
      "cell_type": "markdown",
      "source": [
        "Fazendo um pequeno teste no sumário das reviews:"
      ],
      "metadata": {
        "id": "BwHtqbyrTMCP"
      }
    },
    {
      "cell_type": "code",
      "source": [
        "test_seq = tokenizer.texts_to_sequences(data['summary'])\n",
        "print(\"\\nTest Sequence = \", test_seq)\n",
        "padded = pad_sequences(test_seq, maxlen=10)\n",
        "print(\"\\nPadded Test Sequence: \")\n",
        "print(padded)"
      ],
      "metadata": {
        "colab": {
          "base_uri": "https://localhost:8080/"
        },
        "id": "xxOCbWrzigOy",
        "outputId": "9efabd50-29d6-4ace-de50-4668f5ddcfd7"
      },
      "execution_count": 76,
      "outputs": [
        {
          "output_type": "stream",
          "name": "stdout",
          "text": [
            "\n",
            "Test Sequence =  [[56, 8, 37], [141, 3678], [109, 20, 270], [87, 4], [19, 38], [998, 33, 296, 19], [27, 77, 143], [34, 176], [4, 1, 19, 1, 195, 652], [9, 71], [3088, 12, 865], [361, 1001], [306, 33], [87, 67], [884, 9, 39, 23, 196, 3593, 169, 482], [328, 143, 1, 1, 5], [13, 1002, 176], [3603, 3, 1573, 506], [1091, 14, 122, 61, 7], [19, 49], [19], [1, 142, 99, 8, 2340], [560, 55], [93, 7, 258, 27], [141], [56, 37, 33], [238, 386, 238, 28], [56, 331, 38], [238, 143], [238, 889, 540], [19, 22], [141], [238], [264], [1548, 249, 288], [1001], [542, 1, 55, 5, 90, 799], [1480, 955, 1480, 16], [6], [19, 1790, 1], [9], [106, 81, 513], [74, 63, 2151, 21, 1064], [541], [19, 8, 760, 473], [2289, 3, 150], [19, 401, 1433, 45], [11, 168], [9], [363, 100], [8, 19, 374], [3, 66, 40], [520, 13], [363], [238], [33, 4, 98, 1, 329], [5, 4729, 5, 55], [201, 5785, 5], [8, 9], [56], [355, 33, 9, 1015, 9, 311], [56, 46, 141, 585, 557], [17, 353, 8, 25, 14], [1], [150, 258, 4, 24, 101, 9], [13, 14], [1662], [150, 33, 346, 122], [19, 124, 8], [9, 299], [14, 152], [13, 850], [9, 303], [655, 1869, 73, 560, 10], [113, 9], [638, 1], [184], [45, 3735], [478], [770], [116, 1088, 58, 116, 8], [1449], [19, 33, 56, 305, 401, 363, 735, 110, 62, 129, 117, 1434], [3767, 32, 100, 2104, 26], [323, 4214, 811], [33, 95, 258, 4, 16, 16], [19, 339, 631], [300, 38, 234], [62, 283, 1808], [567, 495, 840, 143], [19, 12, 46, 517], [5, 40], [863, 20, 245], [745, 13, 19, 170, 1179], [192, 9, 496], [3, 532], [2806, 45], [1281, 3, 37], [13, 19, 683, 143, 12], [560], [9, 92], [340, 38], [2657, 331, 29, 238, 578, 356, 16], [19], [9], [1, 29, 361, 38], [150, 283], [98, 5, 10], [23, 4, 148, 5626], [19, 8], [296, 19, 46], [], [770], [9, 303, 9, 12, 1, 84], [150, 1621, 290], [102, 8, 62, 1160], [1711], [53, 14, 130], [490, 8, 1186, 365], [19, 136], [390, 66, 211, 1558, 127], [171, 37, 30, 131], [9, 496], [342, 935], [770], [28, 363, 49], [19, 55, 19, 18], [211, 114, 453], [770], [374, 2, 553, 3, 141], [467, 68, 197], [19, 46, 1437], [205, 127, 845, 12, 96, 568], [38, 38, 77], [2149, 1, 603, 124], [156, 1572], [542, 1, 55, 5, 90, 799], [14, 1264, 533], [180], [19, 506], [171], [1617, 1107], [9], [150, 151, 5, 46, 258, 464], [271, 146], [9, 10], [1568, 12, 790], [19, 55], [150, 47, 22], [10, 8, 19], [243, 134, 68, 281, 99, 55], [1, 2820, 2893, 274, 107, 1093], [300, 2226], [261, 1187, 870, 12, 705, 28], [215, 5], [770, 12, 803, 122], [21, 1694, 27, 67], [719, 41, 141], [1692], [303, 293, 160, 4619, 18, 60], [1449], [9, 33], [514, 27, 1, 706, 226], [2064, 121], [1, 189, 67, 27], [770], [1449, 719, 37, 1], [61, 117], [9, 10], [822], [14, 152, 1005, 40, 19, 5, 178, 1260], [19, 408], [2350, 29, 702, 21], [9, 40, 414, 5], [8, 9], [401, 14, 19, 1, 2082, 999, 835], [19, 33], [171, 14, 152, 12], [901, 30, 144, 16], [770], [3, 1459, 158, 16, 97, 44], [509, 141, 39], [19, 399], [9, 1513, 1, 2106, 5, 10], [300, 467, 1201, 12], [8, 11, 856], [560, 38, 204], [1692, 77, 144], [960, 303], [10, 4], [363, 12, 125], [682], [492, 541], [39, 24, 13], [363, 705, 1314], [770], [19], [150, 303, 588], [56], [19, 2275, 557, 142], [13, 634], [296, 719], [19, 163], [141], [770], [53, 1, 812, 66], [19], [99, 5, 10], [219, 1095, 4154, 1286, 16], [363, 692, 270, 5, 10], [1468], [459], [452, 575, 272, 868, 1], [363, 908], [19, 249, 606], [9, 97], [33, 430, 528], [340, 29], [854, 291, 16], [11, 911, 269], [13, 130], [1], [1302, 167], [150, 1, 191, 22, 28], [2788, 579, 788, 3288, 40, 32, 1433, 26, 216], [98, 5, 40], [1, 49], [3289], [340, 29, 5, 33], [665, 560], [9, 1043, 724, 28], [574], [119, 5, 38, 119, 5], [19, 10], [737, 892], [1], [27], [19, 40, 19, 28], [885, 1], [123, 792, 5], [150, 90, 33, 258, 4], [1816, 9], [1083], [60, 1022, 32, 150, 26], [351, 340, 1314, 189, 2130, 1, 1, 96, 1314], [4283, 567], [719], [243, 107, 197, 116, 1249, 16, 9, 39], [746, 150, 3678, 16], [150, 33, 113], [55], [9, 10, 104, 4], [661, 55], [179], [13, 14], [770, 100], [340], [459, 2125, 112, 1, 10], [1270, 100], [9, 3228, 4, 15, 2, 4, 957], [13, 14], [185, 238], [9, 40, 131], [42], [19], [13], [166, 40], [9, 131], [111, 2, 20, 245, 28], [], [9, 46], [9], [56, 38, 204, 16], [88, 1, 99, 1664], [56, 37], [1, 1157, 1, 212, 1313, 329], [363, 37, 514, 27], [56], [59, 1, 74, 4572], [2, 712, 418, 655], [9, 12, 28], [19, 1621, 290, 216], [9, 226], [1], [203], [362, 5, 40, 1590, 151], [19, 8, 494, 37, 1486], [9, 609, 777], [525, 134], [13], [103], [19], [542, 1, 90, 799], [9], [19, 1306, 1, 141], [9, 28], [340], [1449], [19, 46, 28], [4448, 1067, 1, 16, 3837, 45], [9, 46, 28], [1124, 4463, 157, 71, 91], [54, 13, 14], [1171, 401, 13], [19, 3312], [44], [78, 1784, 64, 37], [99, 365, 1072, 91, 27], [56, 1, 631, 28], [2, 35, 75, 27], [30, 714], [19, 122], [4784, 677, 1, 1], [84, 101, 16], [9, 45, 93, 565], [280, 5, 13, 14], [385, 1029, 880, 882, 1, 400], [715, 100], [19, 2983, 2396], [4, 1], [13, 19, 1135, 4], [184], [840, 184], [9, 46], [9, 330, 2227], [19, 49, 103, 862, 174], [1423, 62, 143, 117, 116], [70], [9, 55, 199, 243, 10, 90], [19, 28], [171, 2906], [1, 630, 135, 1], [19, 38, 131, 16], [56, 40], [492, 154, 100], [106, 9, 30, 40], [1103, 396, 180, 702], [901], [13, 14], [56, 1055, 16], [13, 19], [492, 1, 64, 2911, 53], [25, 14, 166, 1, 145, 4580, 4579, 1, 166, 1], [9, 362, 55, 1741], [3011, 816, 157, 22], [13, 14, 7, 189, 793, 2817], [980, 137, 9, 10, 16], [171, 49], [9, 45], [71, 761, 3013, 1, 513], [122, 12], [9, 171, 413], [19, 1, 194, 91], [70], [56, 9, 166, 4644, 345], [205, 88, 2240, 79, 277, 421], [4, 351, 1301, 2207], [56, 586], [5, 33, 430], [27, 50, 901], [19], [62, 362, 1716], [9, 496, 13, 14, 171, 413, 2854, 22], [13], [9, 46, 131], [9, 194, 217], [19, 55, 28], [222, 982, 14, 1285, 455, 4567, 12], [19, 345, 1016, 91, 194, 217], [359, 8, 10, 233, 1777], [9, 496, 8], [852, 2960, 1, 905, 94, 94, 11], [14, 29, 19, 1401], [19, 49, 342, 935, 819, 78, 28], [184, 235, 83], [201, 33, 430], [13, 9], [340, 6206, 163, 639, 4390, 201, 1], [9, 10, 45, 164, 355], [185, 238], [19, 191, 22], [353, 38, 109, 48, 39], [203], [9, 1876, 288], [1], [9, 10], [171, 331, 705, 38], [9, 37, 28, 16, 1312], [363, 496, 112, 373, 840], [19, 28], [4, 83], [201, 28], [425], [19, 12, 131], [13, 123], [15, 18], [3088, 33, 191, 956, 1], [47, 2951, 1716], [184], [185, 9, 4850, 1939, 33, 159], [2955, 659, 9, 12], [462, 186, 3, 336, 424, 2052, 55], [664, 47, 14, 117, 280], [173, 2916, 184], [1621, 290], [43, 24, 491], [9], [150, 1347, 1621, 290], [103, 28, 9, 188], [1011, 8, 131], [351, 770, 62, 494, 234, 136], [363, 37, 8], [342, 862], [9, 546], [19, 22, 577, 292, 517], [81, 33], [163, 498, 3410], [192, 190, 425, 3, 369, 9, 38], [19, 33], [661, 22, 370], [1287], [9, 5012, 229, 218, 1513, 669, 345, 1066, 1, 1, 3517], [13, 203], [9, 495], [19, 5, 131], [1042, 371, 44, 67, 360], [9, 55, 241, 5043], [19, 131], [201, 187, 40, 987], [184], [11], [13], [9, 33], [425, 38, 81, 63], [19], [361, 171], [19, 10, 2910, 1, 16, 1312], [24, 9], [74, 6, 14, 16], [13, 19, 78, 116, 163], [13, 14], [2611], [19, 5, 28], [664, 1270], [103], [9, 38], [171, 46], [19, 49, 13, 3060], [106, 201], [261, 184], [9, 401], [28, 4080, 37, 217], [9, 104, 10], [56, 38, 324, 213], [2230, 2816], [56], [1726, 1, 1001, 868, 2712], [59, 1, 74, 16, 1], [9, 1], [13, 123, 25, 14, 173], [9], [14, 17, 46, 956, 4], [504, 5181, 19, 28, 421], [1980, 171, 5402, 176], [201, 12, 28], [150, 1107, 464], [617, 3099, 98, 5, 1898, 1011], [361, 412, 1], [56, 38], [103, 16], [363, 90], [71, 200, 2371, 9, 143, 1158, 217, 32, 299, 26], [265, 92], [359, 3107, 73], [184, 674, 1387], [504, 771, 1170, 1568], [1270, 1038], [516, 163, 19, 28], [19, 723, 131], [6, 184, 415], [9, 765, 540, 430], [3, 19, 17, 137, 6, 412, 480, 7], [612, 1164, 56, 2967], [331, 1187], [449, 2742, 13, 1, 2], [770, 55, 612, 2019], [85, 30, 714, 82, 213, 118, 13], [6, 184, 415], [9, 163, 5, 79], [9, 28], [133, 550, 32, 45, 4182, 26], [201, 33, 430], [9, 66, 1], [9, 92], [201, 40], [56, 28, 56, 8], [112, 13, 14], [424, 1, 1, 1434, 947, 151, 5, 10, 760, 1], [11, 3129, 33, 14], [6484, 33, 3130, 5385], [532, 203], [177, 190, 680, 153], [86, 203], [203, 33], [42, 11, 49], [22, 157, 1], [840, 201, 55], [19, 29, 8], [516], [3, 203], [2187, 4], [203], [3, 203, 6, 5451, 45], [13, 11, 38], [109, 578, 28, 64, 2019, 816], [87, 325, 715, 241, 1643, 312, 3454], [1112], [186, 24, 27, 73, 80, 10, 16], [19, 16], [5015, 3, 3321, 16], [5481, 195], [123, 28], [201, 40, 28, 37, 43, 25, 713], [14, 49, 653], [793, 16, 250, 63], [56, 40, 1030], [5490, 689], [109, 108], [5493], [561, 121], [3, 203], [99, 32, 1460, 26, 1], [117, 97, 643, 38], [19, 136, 141, 108], [19, 256, 4282, 128], [235, 134], [1, 5515, 3784], [734, 28], [3, 203, 28, 16], [2, 6, 534, 64], [351, 305], [1075], [241, 5043, 369, 171, 112], [516], [516], [3, 222], [47, 16, 93], [13, 203, 16, 1, 1067], [103, 295, 2320], [99, 579, 55], [28, 106, 9, 303, 5587, 624], [958, 1164, 16, 149], [257, 9, 78, 103, 64, 114], [103, 19, 188], [37, 125, 1, 605, 743], [2951, 73, 157, 253, 55, 6, 9], [1], [4, 14, 299], [235, 134], [985, 206, 851], [1], [2, 446, 81, 5, 40], [6379, 1, 1850], [2958], [54, 11, 9, 12, 313, 233, 1371], [1], [2369, 1], [109, 82, 442], [201], [3, 1287], [130], [3, 516, 24, 516], [103, 340, 1529, 170, 199, 9, 152], [9, 97, 501, 46], [40], [516], [2781, 16], [1229, 541], [56, 91], [184], [363, 649, 160, 782, 251], [33, 430], [62, 130], [2, 1132, 16], [5, 33], [3335, 1115], [3, 201], [3, 5743], [808, 1], [62], [457], [9, 957, 422], [436, 190, 436], [24, 9, 16, 16], [13, 14], [103, 28], [9, 12], [3, 103], [532, 676, 130, 965], [9, 5785, 22], [3, 1, 2265, 1, 2670, 1794, 515], [1, 222], [14, 17, 674], [519, 356], [19, 777], [17, 2088], [1075, 113], [1075], [298, 61, 618, 584], [33, 33, 16], [516, 152, 37, 13], [84, 1090, 300, 114, 12], [56, 5, 8], [3, 141, 1169, 5831, 16], [47, 399, 37], [97, 1224, 687], [185, 2815], [155, 134, 9, 496, 27, 102, 13], [201, 37, 584], [841, 422, 29, 1209], [553, 10], [14, 415, 16, 30, 14, 1], [47, 5, 627, 201, 37], [9, 40, 19], [3, 1869], [332, 280], [117, 873], [47, 355, 217], [9, 363, 16], [516], [24, 62, 110, 1, 4], [1137, 17, 1656, 115, 93], [672, 13], [9, 19], [203], [13, 815, 417], [1, 1248, 2063], [324, 679, 109, 1469, 104, 378, 38], [9, 33, 203, 401], [184, 14, 47, 481, 110, 13], [559], [176, 155, 812, 733, 187], [9, 28], [1, 203, 11, 25, 1370], [103, 5785], [1, 62], [12, 8, 9, 1], [143, 130], [677, 37, 2089, 8], [386, 467], [203], [43, 713], [30, 426], [1, 16], [516], [103], [56, 5785, 353], [109, 564], [584], [19, 8, 1, 37], [9, 1474, 1917], [9, 28], [1356, 4, 1843, 67, 5], [3, 203], [103], [734], [203], [6, 184, 415], [3, 24, 355], [13], [56, 22, 131], [64, 1, 1], [11, 6063, 713], [1, 16], [47, 152, 47], [203], [1075, 37, 99, 2, 76, 602, 78, 37, 299, 11], [3292, 96, 12], [11, 4, 6073, 5, 14], [575, 109, 667], [56, 38, 160], [2012, 1784, 56], [457], [62, 32, 643, 26, 33], [1112, 62, 110, 918], [106, 19], [1], [56, 380, 112, 16, 16], [9, 103], [65, 194, 217, 203, 148, 16], [173, 1], [353, 33], [237, 511, 259], [3, 516], [592, 64, 851], [109, 1777], [584, 3, 1, 1, 51], [3, 1287], [1187, 181, 2293, 259, 251], [71, 1225, 5], [9, 1, 38], [1104, 13, 540, 889, 166, 1322], [], [250, 1075], [56, 40, 16], [1, 144], [95, 82, 16, 16], [50, 30, 206], [136, 19, 504, 2395], [340, 2, 179, 645], [130, 25], [997, 37, 426], [4, 1002, 414, 22], [980, 137, 24], [203], [29, 14, 13], [275, 13, 3, 233, 1139, 4], [9, 33, 19], [62, 2993], [702, 793, 1, 86, 898, 69, 14], [9, 184, 16, 25, 131], [112, 373, 74, 416], [56, 33, 34, 1902], [5, 46], [19, 307, 343, 563, 1016, 259, 3386], [203, 331], [13, 28, 77, 16], [3417, 229, 218], [64, 747, 3177, 6300, 1], [2395, 16], [17, 218], [516, 100], [66, 269], [838, 732, 2223, 1], [9, 28], [56, 55, 500, 2062], [184, 5, 40, 361], [1075], [201, 27, 14, 66], [1, 177, 1], [9, 49, 97], [173, 824], [324, 1057, 213], [102, 5111], [30, 359], [1088], [177, 186, 1, 871], [192, 1, 944, 274], [72], [1045, 1623, 310, 320, 16], [383], [3, 203, 454, 133, 18, 69, 279], [203, 33, 430], [215, 67, 9], [454, 75, 75, 16], [300, 467, 1201, 12], [1230, 37, 1764], [117], [1, 846], [1, 447], [103, 16], [1943, 2891], [9, 33, 16], [3512, 255], [1], [300, 415, 33], [261], [3, 203, 160, 1], [2856, 1, 600], [11], [893, 69, 279], [203], [670], [10, 674, 1712, 445, 1, 9], [2, 17, 39, 87], [1745], [8, 102, 1082], [1], [374], [11], [103, 9], [204, 1473, 126, 262, 316, 529, 1], [1761, 3, 109, 153, 66, 158, 3, 350], [203], [2129], [150], [113, 3240, 195, 1806, 16], [60, 134], [9, 13], [29, 340], [81, 66], [62, 384], [130], [2395], [1], [45, 114, 3265], [2697, 8, 7, 419, 6070, 243, 46], [78, 360, 10, 6, 3030, 342, 10, 1, 8], [383, 15, 6], [3134, 745], [1, 150, 16], [1843], [6, 179], [494, 37, 147, 1, 8], [141, 8, 1649, 5, 22, 883, 4, 1, 5, 27, 1, 1, 654, 1049, 10], [6, 179], [71, 761, 5], [1], [114, 1200], [457, 16, 115, 12, 814], [9, 187, 16, 1312], [30, 670], [56, 37, 129], [239, 118, 278, 5], [1689, 314, 57, 1427], [118, 60, 167, 4], [130], [1, 16], [9, 112, 373, 299], [383, 43, 59, 981], [3, 130], [2, 11, 1, 96, 16], [10, 58], [1, 610], [117, 16], [29, 340, 1715, 848, 1139], [2330, 16, 130], [1589, 92], [214, 66, 158], [8, 11, 149], [19, 16], [378], [180, 131], [13], [18, 222, 7], [521, 1779, 97], [150, 657], [97, 6378], [2, 118, 66], [1, 1, 2049, 453, 544, 8, 453, 69, 279, 589], [332, 1137, 17], [2, 11], [97, 237], [9, 49, 494, 3409], [573, 145, 83], [176, 1, 1, 932, 292, 22], [203, 2510, 145, 127, 20, 1209], [1185, 182, 8, 183, 16, 863], [5015, 16, 3, 9], [1, 768, 16], [2054, 213], [7, 297, 13], [592, 132, 68, 127, 140, 394, 1695, 157, 2513, 36, 1843, 1, 2432], [24, 180], [918], [16], [2, 93, 167], [203, 191], [9, 890], [2, 159, 11], [47, 557], [9, 657], [8, 11, 397, 1, 9, 295, 47], [9, 130], [222], [24, 1677, 1236], [6, 1732, 1520], [115, 2736, 168], [211, 716], [2, 829], [69, 11, 24, 93, 315, 83, 16], [6, 179], [267, 2518, 14, 283, 4, 1, 22], [670], [115, 46, 297, 13, 342], [623, 130, 494, 37], [811, 232, 144], [7, 287, 600, 8, 203], [609], [340, 12, 118, 492], [2, 589, 753], [102, 916], [156, 985], [1137, 17, 374], [758, 311, 672, 1015, 2, 551, 131], [37, 147, 743, 9], [180, 131], [1832, 1833, 116, 284, 2, 71, 2611], [1], [1025, 1013, 2506, 1], [25, 219], [146, 60, 7, 990, 684, 207, 112, 4], [890, 90, 35, 129, 354, 90, 22, 675, 16], [2, 13], [538, 577], [2, 13, 1337, 489], [13, 1041], [], [2, 13, 1, 428, 619], [11, 1090, 300, 2168, 519, 356, 5, 33, 150], [332, 1076, 255, 1], [9, 718, 7, 783, 736], [88, 1, 483, 686, 118, 49, 2, 309], [130], [676, 51, 1766, 1, 6, 259, 228, 622, 16], [115], [573, 1], [], [1, 133, 713, 18, 117, 7], [457, 2798], [9, 40, 1, 79, 259, 4], [6, 179], [3449, 1261, 13], [1331, 322], [551, 131], [9, 133, 599], [86, 560, 16, 1, 35, 255], [5223, 5137, 16], [191, 22], [1479, 1, 2525, 1238, 1, 2, 829], [1], [203, 150], [5743, 19], [173, 824], [13, 1044], [19], [383], [6, 179], [1], [25], [494, 37, 147], [3279, 30, 793, 16], [9, 90, 353], [1724, 747, 353], [9, 191], [890, 78, 1544, 1504, 62, 103, 136], [726, 24, 219], [837, 551, 131], [275, 3226, 18, 2858], [3443, 254], [55, 19, 1483, 25], [1, 313], [13, 924, 3468], [2395, 638, 1], [180, 396, 95, 225], [448], [1, 489, 291, 782], [176, 253, 12], [24, 1075], [627, 19], [112], [2084, 1376], [1], [19, 8, 14, 17, 1474], [1, 14, 297, 13], [13], [516, 257, 28], [90], [542, 17, 9, 55], [273, 208, 503], [1096, 302, 1], [1075], [47, 50, 16], [714], [56, 353, 103, 3, 448, 614, 37, 147, 2, 577, 709, 15, 58, 2864, 789], [29, 1917], [27, 367], [11, 78, 1784, 136, 209, 70, 16], [646, 1, 1, 8, 96, 12], [2, 75, 256, 3299, 16], [7, 6, 2, 13, 77], [112, 373, 201, 66], [851, 531, 110, 64], [88, 3633, 5], [359], [2, 13], [1376, 65, 9, 84], [2475, 2475, 1, 16, 1312], [822, 955, 16, 1674, 194, 16], [1, 13], [1], [60, 134], [3, 502, 182, 12, 144], [2421, 1], [1047, 549], [1], [1, 43, 713], [19, 8, 758, 3057], [1178, 217], [5, 1509, 57, 53, 113, 61, 59, 25, 410], [1725, 3, 474], [363, 178, 2786, 3477], [4, 1999, 1431, 582, 7], [4202, 1, 166, 229, 218, 1, 100], [2646], [41, 117, 873, 459, 10, 16, 16], [18, 119, 46, 7, 7, 58, 70], [595], [1674, 1404, 167, 4], [595], [1967], [615, 1761], [9, 3494], [69, 1, 20], [1], [6, 1462, 469, 2503], [85, 11, 21, 1051, 3495, 99, 5, 16], [117], [841, 274], [24, 1169], [4, 6587, 3277, 33, 27, 3497, 33, 1806], [758, 15, 2, 754, 35, 5764, 5, 40, 53, 1156], [19, 269], [1, 5], [100, 17, 1090, 300, 483], [103, 100, 23, 258, 4], [1, 1307], [670], [13], [883, 7, 11, 1], [1672, 13, 2454, 66, 521, 598], [1, 47, 504, 49, 843], [1391, 1841], [551, 131, 16], [152, 1108], [381, 415, 69, 245, 16], [755], [837, 16], [595], [47, 193, 595], [883, 1], [651, 207, 46, 3477, 13], [670, 152, 37], [113, 609, 4, 730, 187], [2343, 71], [205, 102, 182, 1, 677, 602], [311, 1, 219, 8, 2074], [2741, 338, 537], [758, 247, 30, 2098, 1431], [38, 293, 298], [118, 185, 662], [111, 2, 72, 49], [755], [670], [3503, 799, 546], [13, 546, 27, 191, 546, 18, 69, 279], [12, 13], [1156, 260, 426, 3443], [106, 967, 311, 1, 186, 356, 2322, 245, 347], [366, 1184], [179, 73, 2533, 6, 913, 7], [], [1, 80, 169, 2467], [366, 99, 1184], [2054, 400, 138, 167], [1], [109, 436, 693], [42, 350, 2819, 5], [9, 408, 24, 103, 3346, 14, 105, 3], [1, 141, 5], [333, 9], [2, 18], [13, 98, 151, 5], [985, 679], [1, 1373, 182], [9], [782, 136, 1273, 57, 269, 239], [47, 38, 9, 1236], [1761, 882, 40, 985, 679, 3519, 44, 41, 1], [758], [598], [782, 1327, 1776, 1, 10], [670, 447, 3359, 1], [2536], [2, 6], [873], [1277, 112, 652, 994], [9, 49, 736, 1], [3, 24, 1, 596, 2666, 35, 16], [72, 55], [273, 208, 103, 16], [1376], [1, 16], [62, 195], [5382, 985, 679, 1487, 4], [47, 47], [2, 11, 1024, 38], [7], [1], [297, 13, 276, 240], [84, 176, 777, 1, 12], [2, 13], [13], [2536], [848, 1], [2074, 1462, 1], [1, 755], [573, 2402], [1], [4, 14, 22, 8, 1365, 1763, 16], [1169], [149, 25], [45, 140], [185, 775, 1, 819, 965], [390, 131, 47, 999, 16], [494, 37, 718], [150, 303, 47, 46], [146, 235, 189, 455, 7, 3443, 684, 65, 83], [53, 206, 1681, 5, 18, 38], [197, 419, 168, 651, 107], [755], [448], [2, 71], [2, 13, 8, 1615], [13, 19, 1, 240], [8, 56, 2462, 2538, 1207], [714], [1749, 1382, 1239, 136], [2523, 421, 37], [1497, 1271], [1, 773, 84], [480, 97], [8, 1327, 6, 179], [494, 37, 445, 1608], [595], [23, 132], [2, 13], [755], [2, 215, 12], [107, 553, 77, 208], [895, 1, 302], [9, 200, 927], [1], [1327], [1], [1169], [793], [642, 3121], [392, 919, 400], [297, 13, 138, 194], [783, 136, 736], [598, 306, 1034], [261, 361, 634, 598, 151, 5, 90], [71, 151, 5], [481, 1, 641, 2202, 839, 417, 737], [304, 453, 40], [], [2, 211], [928], [639], [448, 2, 13, 65, 34], [1700, 49], [9, 16], [161, 109, 21], [1327], [1239, 17, 714, 18, 88, 49], [3443], [88, 168, 13, 25, 87, 13, 14], [162, 9, 7], [13, 19, 2, 118], [118, 244], [597, 196, 19, 537, 1], [22, 1, 1, 127, 2, 21], [203, 28, 307, 557, 120, 343, 27], [1271], [918], [482, 620, 311, 1, 213], [54, 106, 3526], [551, 131], [3525, 127, 140], [9, 408, 3305, 41, 2170, 5, 324], [2871, 79, 16, 1983, 841, 4], [3547, 420, 262, 448, 78, 360, 10, 1604], [4, 2329], [111, 2, 300, 50, 14, 1, 1022, 1], [102, 127, 4, 816, 101, 645], [33, 1106, 127, 103, 1, 1], [1, 1780], [103, 55, 23, 258, 4], [166, 512, 445, 517, 17, 39, 1079, 1, 6, 7], [924, 199, 3314, 61, 132], [835, 323, 111, 2, 35, 4], [1169, 16, 16], [15, 1484], [3443], [871, 928], [72, 475], [313, 1], [1152, 384, 1], [1071, 151, 5], [1894, 1, 28, 62, 5], [2, 11], [526, 511, 711, 239, 19, 40], [644, 1], [1, 187, 40, 1, 269], [3553, 3554], [39], [482, 620, 96], [1395, 1328, 362], [341, 3382, 1, 6349, 5, 1], [519, 1101, 67], [70, 2548], [1137, 17, 2438, 240], [2, 1, 131], [71, 527, 1, 1, 636, 5, 1167, 44], [47, 1341], [1341, 444], [793, 66, 711], [3, 116, 284], [18], [3462, 1131], [1]]\n",
            "\n",
            "Padded Test Sequence: \n",
            "[[   0    0    0 ...   56    8   37]\n",
            " [   0    0    0 ...    0  141 3678]\n",
            " [   0    0    0 ...  109   20  270]\n",
            " ...\n",
            " [   0    0    0 ...    0    0   18]\n",
            " [   0    0    0 ...    0 3462 1131]\n",
            " [   0    0    0 ...    0    0    1]]\n"
          ]
        }
      ]
    },
    {
      "cell_type": "markdown",
      "metadata": {
        "id": "pJQ2qijfwmXy"
      },
      "source": [
        "## Rede Neural Recorrente Simples com camada de Embedding;"
      ]
    },
    {
      "cell_type": "markdown",
      "source": [
        "Lembrando que vamos treinar e testar a rede duas vezes, a primeira com o modelo categórico (original), e depois com o modelo binário."
      ],
      "metadata": {
        "id": "Nid_D74rTRfz"
      }
    },
    {
      "cell_type": "code",
      "execution_count": 119,
      "metadata": {
        "id": "DGCS1k9awi14"
      },
      "outputs": [],
      "source": [
        "import tensorflow as tf\n",
        "from tensorflow import keras\n",
        "from tensorflow.keras import layers\n",
        "from keras.models import Sequential\n",
        "from keras.layers import Embedding, LSTM, Dense, Dropout, Bidirectional\n",
        "from keras.initializers import Constant"
      ]
    },
    {
      "cell_type": "markdown",
      "source": [
        "Primeiro, vamos utilziar o One-Hot Encoding para deixar o dataset no formato treinável, como são poucas categorias (5 no modelo categórico e 2 no binário, é preferível utilizar o One-Hot Encoding)"
      ],
      "metadata": {
        "id": "lHdp-wNBVLim"
      }
    },
    {
      "cell_type": "code",
      "source": [
        "from sklearn.preprocessing import OneHotEncoder\n",
        "encoder = OneHotEncoder(handle_unknown='ignore')\n",
        "\n",
        "e_df = pd.DataFrame(encoder.fit_transform(df[['overall']]).toarray())\n",
        "\n",
        "e_df.head()"
      ],
      "metadata": {
        "colab": {
          "base_uri": "https://localhost:8080/",
          "height": 206
        },
        "id": "a94h6K4pVXtv",
        "outputId": "4332cf36-645e-499e-b949-164a4d23690a"
      },
      "execution_count": 108,
      "outputs": [
        {
          "output_type": "execute_result",
          "data": {
            "text/plain": [
              "     0    1    2    3    4\n",
              "0  0.0  0.0  0.0  0.0  1.0\n",
              "1  0.0  0.0  0.0  0.0  1.0\n",
              "2  0.0  0.0  0.0  0.0  1.0\n",
              "3  0.0  0.0  0.0  0.0  1.0\n",
              "4  0.0  0.0  0.0  0.0  1.0"
            ],
            "text/html": [
              "\n",
              "  <div id=\"df-1756b619-eeb7-4961-94e3-9b17b63242b3\">\n",
              "    <div class=\"colab-df-container\">\n",
              "      <div>\n",
              "<style scoped>\n",
              "    .dataframe tbody tr th:only-of-type {\n",
              "        vertical-align: middle;\n",
              "    }\n",
              "\n",
              "    .dataframe tbody tr th {\n",
              "        vertical-align: top;\n",
              "    }\n",
              "\n",
              "    .dataframe thead th {\n",
              "        text-align: right;\n",
              "    }\n",
              "</style>\n",
              "<table border=\"1\" class=\"dataframe\">\n",
              "  <thead>\n",
              "    <tr style=\"text-align: right;\">\n",
              "      <th></th>\n",
              "      <th>0</th>\n",
              "      <th>1</th>\n",
              "      <th>2</th>\n",
              "      <th>3</th>\n",
              "      <th>4</th>\n",
              "    </tr>\n",
              "  </thead>\n",
              "  <tbody>\n",
              "    <tr>\n",
              "      <th>0</th>\n",
              "      <td>0.0</td>\n",
              "      <td>0.0</td>\n",
              "      <td>0.0</td>\n",
              "      <td>0.0</td>\n",
              "      <td>1.0</td>\n",
              "    </tr>\n",
              "    <tr>\n",
              "      <th>1</th>\n",
              "      <td>0.0</td>\n",
              "      <td>0.0</td>\n",
              "      <td>0.0</td>\n",
              "      <td>0.0</td>\n",
              "      <td>1.0</td>\n",
              "    </tr>\n",
              "    <tr>\n",
              "      <th>2</th>\n",
              "      <td>0.0</td>\n",
              "      <td>0.0</td>\n",
              "      <td>0.0</td>\n",
              "      <td>0.0</td>\n",
              "      <td>1.0</td>\n",
              "    </tr>\n",
              "    <tr>\n",
              "      <th>3</th>\n",
              "      <td>0.0</td>\n",
              "      <td>0.0</td>\n",
              "      <td>0.0</td>\n",
              "      <td>0.0</td>\n",
              "      <td>1.0</td>\n",
              "    </tr>\n",
              "    <tr>\n",
              "      <th>4</th>\n",
              "      <td>0.0</td>\n",
              "      <td>0.0</td>\n",
              "      <td>0.0</td>\n",
              "      <td>0.0</td>\n",
              "      <td>1.0</td>\n",
              "    </tr>\n",
              "  </tbody>\n",
              "</table>\n",
              "</div>\n",
              "      <button class=\"colab-df-convert\" onclick=\"convertToInteractive('df-1756b619-eeb7-4961-94e3-9b17b63242b3')\"\n",
              "              title=\"Convert this dataframe to an interactive table.\"\n",
              "              style=\"display:none;\">\n",
              "        \n",
              "  <svg xmlns=\"http://www.w3.org/2000/svg\" height=\"24px\"viewBox=\"0 0 24 24\"\n",
              "       width=\"24px\">\n",
              "    <path d=\"M0 0h24v24H0V0z\" fill=\"none\"/>\n",
              "    <path d=\"M18.56 5.44l.94 2.06.94-2.06 2.06-.94-2.06-.94-.94-2.06-.94 2.06-2.06.94zm-11 1L8.5 8.5l.94-2.06 2.06-.94-2.06-.94L8.5 2.5l-.94 2.06-2.06.94zm10 10l.94 2.06.94-2.06 2.06-.94-2.06-.94-.94-2.06-.94 2.06-2.06.94z\"/><path d=\"M17.41 7.96l-1.37-1.37c-.4-.4-.92-.59-1.43-.59-.52 0-1.04.2-1.43.59L10.3 9.45l-7.72 7.72c-.78.78-.78 2.05 0 2.83L4 21.41c.39.39.9.59 1.41.59.51 0 1.02-.2 1.41-.59l7.78-7.78 2.81-2.81c.8-.78.8-2.07 0-2.86zM5.41 20L4 18.59l7.72-7.72 1.47 1.35L5.41 20z\"/>\n",
              "  </svg>\n",
              "      </button>\n",
              "      \n",
              "  <style>\n",
              "    .colab-df-container {\n",
              "      display:flex;\n",
              "      flex-wrap:wrap;\n",
              "      gap: 12px;\n",
              "    }\n",
              "\n",
              "    .colab-df-convert {\n",
              "      background-color: #E8F0FE;\n",
              "      border: none;\n",
              "      border-radius: 50%;\n",
              "      cursor: pointer;\n",
              "      display: none;\n",
              "      fill: #1967D2;\n",
              "      height: 32px;\n",
              "      padding: 0 0 0 0;\n",
              "      width: 32px;\n",
              "    }\n",
              "\n",
              "    .colab-df-convert:hover {\n",
              "      background-color: #E2EBFA;\n",
              "      box-shadow: 0px 1px 2px rgba(60, 64, 67, 0.3), 0px 1px 3px 1px rgba(60, 64, 67, 0.15);\n",
              "      fill: #174EA6;\n",
              "    }\n",
              "\n",
              "    [theme=dark] .colab-df-convert {\n",
              "      background-color: #3B4455;\n",
              "      fill: #D2E3FC;\n",
              "    }\n",
              "\n",
              "    [theme=dark] .colab-df-convert:hover {\n",
              "      background-color: #434B5C;\n",
              "      box-shadow: 0px 1px 3px 1px rgba(0, 0, 0, 0.15);\n",
              "      filter: drop-shadow(0px 1px 2px rgba(0, 0, 0, 0.3));\n",
              "      fill: #FFFFFF;\n",
              "    }\n",
              "  </style>\n",
              "\n",
              "      <script>\n",
              "        const buttonEl =\n",
              "          document.querySelector('#df-1756b619-eeb7-4961-94e3-9b17b63242b3 button.colab-df-convert');\n",
              "        buttonEl.style.display =\n",
              "          google.colab.kernel.accessAllowed ? 'block' : 'none';\n",
              "\n",
              "        async function convertToInteractive(key) {\n",
              "          const element = document.querySelector('#df-1756b619-eeb7-4961-94e3-9b17b63242b3');\n",
              "          const dataTable =\n",
              "            await google.colab.kernel.invokeFunction('convertToInteractive',\n",
              "                                                     [key], {});\n",
              "          if (!dataTable) return;\n",
              "\n",
              "          const docLinkHtml = 'Like what you see? Visit the ' +\n",
              "            '<a target=\"_blank\" href=https://colab.research.google.com/notebooks/data_table.ipynb>data table notebook</a>'\n",
              "            + ' to learn more about interactive tables.';\n",
              "          element.innerHTML = '';\n",
              "          dataTable['output_type'] = 'display_data';\n",
              "          await google.colab.output.renderOutput(dataTable, element);\n",
              "          const docLink = document.createElement('div');\n",
              "          docLink.innerHTML = docLinkHtml;\n",
              "          element.appendChild(docLink);\n",
              "        }\n",
              "      </script>\n",
              "    </div>\n",
              "  </div>\n",
              "  "
            ]
          },
          "metadata": {},
          "execution_count": 108
        }
      ]
    },
    {
      "cell_type": "code",
      "source": [
        "x = padded\n",
        "y = np.array(e_df)\n",
        "\n",
        "x_train, x_test, y_train, y_test = train_test_split(x,y, test_size=0.2)"
      ],
      "metadata": {
        "id": "okLSlcP1UKTd"
      },
      "execution_count": 94,
      "outputs": []
    },
    {
      "cell_type": "code",
      "source": [
        "model = keras.Sequential()\n",
        "\n",
        "model.add(layers.Embedding(27764, 128))\n",
        "model.add(layers.SimpleRNN(128))\n",
        "model.add(Dense(100, activation='tanh'))\n",
        "model.add(Dense(50, activation='tanh'))\n",
        "model.add(Dense(5, activation='tanh'))\n",
        "\n",
        "model.compile(loss='categorical_crossentropy', optimizer='adam', metrics=['accuracy'])\n",
        "model.summary()"
      ],
      "metadata": {
        "colab": {
          "base_uri": "https://localhost:8080/"
        },
        "id": "AaC3Z6kymBxY",
        "outputId": "fe0c4573-ca11-4ae3-ade2-0c56d405c03a"
      },
      "execution_count": 98,
      "outputs": [
        {
          "output_type": "stream",
          "name": "stdout",
          "text": [
            "Model: \"sequential_5\"\n",
            "_________________________________________________________________\n",
            " Layer (type)                Output Shape              Param #   \n",
            "=================================================================\n",
            " embedding_5 (Embedding)     (None, None, 128)         3553792   \n",
            "                                                                 \n",
            " simple_rnn_5 (SimpleRNN)    (None, 128)               32896     \n",
            "                                                                 \n",
            " dense_6 (Dense)             (None, 100)               12900     \n",
            "                                                                 \n",
            " dense_7 (Dense)             (None, 50)                5050      \n",
            "                                                                 \n",
            " dense_8 (Dense)             (None, 5)                 255       \n",
            "                                                                 \n",
            "=================================================================\n",
            "Total params: 3,604,893\n",
            "Trainable params: 3,604,893\n",
            "Non-trainable params: 0\n",
            "_________________________________________________________________\n"
          ]
        }
      ]
    },
    {
      "cell_type": "code",
      "source": [
        "history = model.fit(\n",
        "    x_train, y_train, epochs=30, validation_data=(x_test, y_test),callbacks=[tf.keras.callbacks.EarlyStopping(monitor='val_accuracy', patience=3)]\n",
        ")"
      ],
      "metadata": {
        "id": "SA1HRTwcmBzr",
        "colab": {
          "base_uri": "https://localhost:8080/"
        },
        "outputId": "95774908-6f02-4a61-9332-59621c631cc9"
      },
      "execution_count": 99,
      "outputs": [
        {
          "output_type": "stream",
          "name": "stdout",
          "text": [
            "Epoch 1/30\n",
            "31/31 [==============================] - 3s 32ms/step - loss: 7.3052 - accuracy: 0.1889 - val_loss: 8.7555 - val_accuracy: 0.2469\n",
            "Epoch 2/30\n",
            "31/31 [==============================] - 1s 22ms/step - loss: 6.7671 - accuracy: 0.1950 - val_loss: 6.6993 - val_accuracy: 0.2469\n",
            "Epoch 3/30\n",
            "31/31 [==============================] - 1s 23ms/step - loss: 6.0547 - accuracy: 0.1950 - val_loss: 6.6993 - val_accuracy: 0.2469\n",
            "Epoch 4/30\n",
            "31/31 [==============================] - 1s 23ms/step - loss: 6.0547 - accuracy: 0.1940 - val_loss: 6.6993 - val_accuracy: 0.2469\n"
          ]
        }
      ]
    },
    {
      "cell_type": "markdown",
      "source": [
        "Viu-se que, utilizando somente uma Rede Neural Recorrente Simples com uma camada de Embedding não é o suficiente para obtermos uma boa acurácia. Agora, com o modelo binário:"
      ],
      "metadata": {
        "id": "PKpWI6S1WMXP"
      }
    },
    {
      "cell_type": "code",
      "source": [
        "x = padded\n",
        "y = np.array(df['binary'])\n",
        "\n",
        "x_train, x_test, y_train, y_test = train_test_split(x,y, test_size=0.2)\n",
        "\n",
        "model = keras.Sequential()\n",
        "\n",
        "model.add(layers.Embedding(27764, 128))\n",
        "model.add(layers.SimpleRNN(128))\n",
        "model.add(Dense(100, activation='tanh'))\n",
        "model.add(Dense(50, activation='tanh'))\n",
        "model.add(Dense(1, activation='tanh'))\n",
        "\n",
        "model.compile(loss='binary_crossentropy', optimizer='adam', metrics=['accuracy'])\n",
        "model.summary()"
      ],
      "metadata": {
        "id": "HyomlOROmB1m",
        "colab": {
          "base_uri": "https://localhost:8080/"
        },
        "outputId": "7692b1ec-de9f-46af-ab8f-f83834637c4e"
      },
      "execution_count": 115,
      "outputs": [
        {
          "output_type": "stream",
          "name": "stdout",
          "text": [
            "Model: \"sequential_13\"\n",
            "_________________________________________________________________\n",
            " Layer (type)                Output Shape              Param #   \n",
            "=================================================================\n",
            " embedding_13 (Embedding)    (None, None, 128)         3553792   \n",
            "                                                                 \n",
            " simple_rnn_13 (SimpleRNN)   (None, 128)               32896     \n",
            "                                                                 \n",
            " dense_30 (Dense)            (None, 100)               12900     \n",
            "                                                                 \n",
            " dense_31 (Dense)            (None, 50)                5050      \n",
            "                                                                 \n",
            " dense_32 (Dense)            (None, 1)                 51        \n",
            "                                                                 \n",
            "=================================================================\n",
            "Total params: 3,604,689\n",
            "Trainable params: 3,604,689\n",
            "Non-trainable params: 0\n",
            "_________________________________________________________________\n"
          ]
        }
      ]
    },
    {
      "cell_type": "code",
      "source": [
        "history = model.fit(\n",
        "    x_train, y_train, epochs=30, validation_data=(x_test, y_test),callbacks=[tf.keras.callbacks.EarlyStopping(monitor='val_accuracy', patience=3)])"
      ],
      "metadata": {
        "colab": {
          "base_uri": "https://localhost:8080/"
        },
        "id": "Bif7VRfYWpI6",
        "outputId": "b33f10eb-d0a7-4e31-d0d5-fec4e9144b3a"
      },
      "execution_count": 116,
      "outputs": [
        {
          "output_type": "stream",
          "name": "stdout",
          "text": [
            "Epoch 1/30\n",
            "31/31 [==============================] - 2s 31ms/step - loss: 0.7458 - accuracy: 0.5666 - val_loss: 0.7045 - val_accuracy: 0.5967\n",
            "Epoch 2/30\n",
            "31/31 [==============================] - 1s 23ms/step - loss: 0.4769 - accuracy: 0.7822 - val_loss: 0.8189 - val_accuracy: 0.6626\n",
            "Epoch 3/30\n",
            "31/31 [==============================] - 1s 24ms/step - loss: 0.2941 - accuracy: 0.8968 - val_loss: 1.2889 - val_accuracy: 0.6461\n",
            "Epoch 4/30\n",
            "31/31 [==============================] - 1s 23ms/step - loss: 0.2327 - accuracy: 0.9247 - val_loss: 2.5365 - val_accuracy: 0.6502\n",
            "Epoch 5/30\n",
            "31/31 [==============================] - 1s 23ms/step - loss: 0.2198 - accuracy: 0.9267 - val_loss: 1.2943 - val_accuracy: 0.6091\n"
          ]
        }
      ]
    },
    {
      "cell_type": "markdown",
      "metadata": {
        "id": "CibXPqGHwncm"
      },
      "source": [
        "## Substituindo a RNN simples por uma LSTM bidimensional;"
      ]
    },
    {
      "cell_type": "markdown",
      "source": [
        "Primeiramente, faremos com o modelo categórico, e depois, o modelo binário:"
      ],
      "metadata": {
        "id": "JK5D-oFQYn00"
      }
    },
    {
      "cell_type": "code",
      "source": [
        "x = padded\n",
        "y = np.array(e_df)\n",
        "\n",
        "x_train, x_test, y_train, y_test = train_test_split(x,y, test_size=0.2)\n",
        "\n",
        "model = keras.Sequential()\n",
        "\n",
        "model.add(layers.Embedding(27764, 128))\n",
        "model.add(Bidirectional(LSTM(100)))\n",
        "model.add(Dense(80, activation='tanh'))\n",
        "model.add(Dense(50, activation='tanh'))\n",
        "model.add(Dense(5, activation='softmax'))\n",
        "\n",
        "model.compile(loss='categorical_crossentropy', optimizer='adam', metrics=['accuracy'])\n",
        "model.summary()"
      ],
      "metadata": {
        "colab": {
          "base_uri": "https://localhost:8080/"
        },
        "id": "WzpyUZShYr7u",
        "outputId": "2041aea9-f267-4633-d66a-d5becd92c687"
      },
      "execution_count": 136,
      "outputs": [
        {
          "output_type": "stream",
          "name": "stdout",
          "text": [
            "Model: \"sequential_26\"\n",
            "_________________________________________________________________\n",
            " Layer (type)                Output Shape              Param #   \n",
            "=================================================================\n",
            " embedding_26 (Embedding)    (None, None, 128)         3553792   \n",
            "                                                                 \n",
            " bidirectional_7 (Bidirectio  (None, 200)              183200    \n",
            " nal)                                                            \n",
            "                                                                 \n",
            " dense_53 (Dense)            (None, 80)                16080     \n",
            "                                                                 \n",
            " dense_54 (Dense)            (None, 50)                4050      \n",
            "                                                                 \n",
            " dense_55 (Dense)            (None, 5)                 255       \n",
            "                                                                 \n",
            "=================================================================\n",
            "Total params: 3,757,377\n",
            "Trainable params: 3,757,377\n",
            "Non-trainable params: 0\n",
            "_________________________________________________________________\n"
          ]
        }
      ]
    },
    {
      "cell_type": "code",
      "source": [
        "history = model.fit(\n",
        "    x_train, y_train, epochs=30, validation_data=(x_test, y_test),callbacks=[tf.keras.callbacks.EarlyStopping(monitor='val_accuracy', patience=3)])"
      ],
      "metadata": {
        "colab": {
          "base_uri": "https://localhost:8080/"
        },
        "id": "7YEnoiRLYr9l",
        "outputId": "270f5627-bba7-4452-c122-360748b3658b"
      },
      "execution_count": 137,
      "outputs": [
        {
          "output_type": "stream",
          "name": "stdout",
          "text": [
            "Epoch 1/30\n",
            "31/31 [==============================] - 5s 49ms/step - loss: 1.6125 - accuracy: 0.2043 - val_loss: 1.6035 - val_accuracy: 0.2593\n",
            "Epoch 2/30\n",
            "31/31 [==============================] - 1s 16ms/step - loss: 1.5338 - accuracy: 0.3664 - val_loss: 1.5264 - val_accuracy: 0.2798\n",
            "Epoch 3/30\n",
            "31/31 [==============================] - 1s 17ms/step - loss: 1.1969 - accuracy: 0.5356 - val_loss: 1.5545 - val_accuracy: 0.3169\n",
            "Epoch 4/30\n",
            "31/31 [==============================] - 1s 17ms/step - loss: 0.8355 - accuracy: 0.6821 - val_loss: 1.8522 - val_accuracy: 0.3292\n",
            "Epoch 5/30\n",
            "31/31 [==============================] - 1s 16ms/step - loss: 0.6045 - accuracy: 0.7864 - val_loss: 2.0385 - val_accuracy: 0.3498\n",
            "Epoch 6/30\n",
            "31/31 [==============================] - 0s 16ms/step - loss: 0.4852 - accuracy: 0.8225 - val_loss: 2.2096 - val_accuracy: 0.3580\n",
            "Epoch 7/30\n",
            "31/31 [==============================] - 1s 17ms/step - loss: 0.4103 - accuracy: 0.8442 - val_loss: 2.2744 - val_accuracy: 0.3416\n",
            "Epoch 8/30\n",
            "31/31 [==============================] - 1s 16ms/step - loss: 0.3720 - accuracy: 0.8638 - val_loss: 2.5070 - val_accuracy: 0.3457\n",
            "Epoch 9/30\n",
            "31/31 [==============================] - 0s 16ms/step - loss: 0.3618 - accuracy: 0.8555 - val_loss: 2.5087 - val_accuracy: 0.3416\n"
          ]
        }
      ]
    },
    {
      "cell_type": "code",
      "source": [
        "x = padded\n",
        "y = np.array(df['binary'])\n",
        "\n",
        "x_train, x_test, y_train, y_test = train_test_split(x,y, test_size=0.2)\n",
        "\n",
        "model = keras.Sequential()\n",
        "\n",
        "model.add(layers.Embedding(27764, 128))\n",
        "model.add(Bidirectional(LSTM(100)))\n",
        "model.add(Dense(80, activation='tanh'))\n",
        "model.add(Dense(50, activation='tanh'))\n",
        "model.add(Dense(1, activation='sigmoid'))\n",
        "\n",
        "model.compile(loss='binary_crossentropy', optimizer='adam', metrics=['accuracy'])\n",
        "model.summary()"
      ],
      "metadata": {
        "colab": {
          "base_uri": "https://localhost:8080/"
        },
        "id": "HbRWZiaoYnZR",
        "outputId": "0c45360d-e47b-499e-908e-179b0937e766"
      },
      "execution_count": 131,
      "outputs": [
        {
          "output_type": "stream",
          "name": "stdout",
          "text": [
            "Model: \"sequential_23\"\n",
            "_________________________________________________________________\n",
            " Layer (type)                Output Shape              Param #   \n",
            "=================================================================\n",
            " embedding_23 (Embedding)    (None, None, 128)         3553792   \n",
            "                                                                 \n",
            " bidirectional_4 (Bidirectio  (None, 200)              183200    \n",
            " nal)                                                            \n",
            "                                                                 \n",
            " dense_44 (Dense)            (None, 80)                16080     \n",
            "                                                                 \n",
            " dense_45 (Dense)            (None, 50)                4050      \n",
            "                                                                 \n",
            " dense_46 (Dense)            (None, 1)                 51        \n",
            "                                                                 \n",
            "=================================================================\n",
            "Total params: 3,757,173\n",
            "Trainable params: 3,757,173\n",
            "Non-trainable params: 0\n",
            "_________________________________________________________________\n"
          ]
        }
      ]
    },
    {
      "cell_type": "code",
      "execution_count": 132,
      "metadata": {
        "id": "8nQPlc_Qwi4J",
        "colab": {
          "base_uri": "https://localhost:8080/"
        },
        "outputId": "116a22d4-24b6-48f2-fcf4-8a18d194c79e"
      },
      "outputs": [
        {
          "output_type": "stream",
          "name": "stdout",
          "text": [
            "Epoch 1/30\n",
            "31/31 [==============================] - 6s 49ms/step - loss: 0.6756 - accuracy: 0.5851 - val_loss: 0.6658 - val_accuracy: 0.5761\n",
            "Epoch 2/30\n",
            "31/31 [==============================] - 1s 16ms/step - loss: 0.5643 - accuracy: 0.7152 - val_loss: 0.6491 - val_accuracy: 0.6831\n",
            "Epoch 3/30\n",
            "31/31 [==============================] - 1s 17ms/step - loss: 0.3535 - accuracy: 0.8493 - val_loss: 0.7623 - val_accuracy: 0.6790\n",
            "Epoch 4/30\n",
            "31/31 [==============================] - 1s 16ms/step - loss: 0.2568 - accuracy: 0.8906 - val_loss: 0.9065 - val_accuracy: 0.6955\n",
            "Epoch 5/30\n",
            "31/31 [==============================] - 1s 16ms/step - loss: 0.2052 - accuracy: 0.9216 - val_loss: 0.9465 - val_accuracy: 0.6955\n",
            "Epoch 6/30\n",
            "31/31 [==============================] - 1s 16ms/step - loss: 0.1791 - accuracy: 0.9350 - val_loss: 1.0406 - val_accuracy: 0.6914\n",
            "Epoch 7/30\n",
            "31/31 [==============================] - 1s 17ms/step - loss: 0.1739 - accuracy: 0.9309 - val_loss: 1.0686 - val_accuracy: 0.6790\n"
          ]
        }
      ],
      "source": [
        "history = model.fit(\n",
        "    x_train, y_train, epochs=30, validation_data=(x_test, y_test),callbacks=[tf.keras.callbacks.EarlyStopping(monitor='val_accuracy', patience=3)])"
      ]
    },
    {
      "cell_type": "markdown",
      "source": [
        "## Conclusão"
      ],
      "metadata": {
        "id": "UeSrwZw_eTGt"
      }
    },
    {
      "cell_type": "markdown",
      "source": [
        "Após os treinamentos dos modelos, viu-se que o Modelo LTSM  Bidimensional possui uma melhor performance que o Modelo RNN Simples no que diz respeito à acurácia, e nos dois casos, o banco de dados binário (acurácia em torno de 70%) se sai melhor do que o categórico (acurácia em torno de 35%), o que pode ser possível devido ao maior número de obervações para treinar e menos opções de escolha (somente zero ou um)."
      ],
      "metadata": {
        "id": "wM0GlR7Qc1Kl"
      }
    }
  ],
  "metadata": {
    "accelerator": "GPU",
    "colab": {
      "collapsed_sections": [],
      "name": "periodo6.ipynb",
      "provenance": []
    },
    "kernelspec": {
      "display_name": "Python 3",
      "name": "python3"
    },
    "language_info": {
      "name": "python"
    }
  },
  "nbformat": 4,
  "nbformat_minor": 0
}